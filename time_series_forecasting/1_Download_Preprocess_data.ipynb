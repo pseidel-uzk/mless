{
  "cells": [
    {
      "cell_type": "markdown",
      "metadata": {
        "colab_type": "text",
        "id": "view-in-github"
      },
      "source": [
        "<a href=\"https://colab.research.google.com/github/maschu09/mless/blob/main/time_series_forecasting/1_Download_Preprocess_data.ipynb\" target=\"_parent\"><img src=\"https://colab.research.google.com/assets/colab-badge.svg\" alt=\"Open In Colab\"/></a>"
      ]
    },
    {
      "cell_type": "markdown",
      "id": "93fb8933",
      "metadata": {
        "id": "93fb8933"
      },
      "source": [
        "# Data download and preparation\n",
        "\n",
        "In the following, we will set-up a typical data preprocessing workflow for (environmental) timeseries data. It is quite common that such data can be obtained via a web interface (REST API) and that the output from this API requires substantial reformatting and rearranging before the data can be imported into analysis or forecasting models. Typical issues encountered include:\n",
        "* time series at different stations (and for different parameters) vary in length\n",
        "* timeseries have some or many missing values, which are either absent from the data series or encoded as special values\n",
        "* data vary in quality (some datasets may have jumps or awkward \"features\" that cannot be explained by natural phenomena)\n",
        "* metadata to inform the data selection are missing ort difficult to access/process\n",
        "\n",
        "In this notebook, we try to keep things relatively simple and straightforward while providing a set of tools that can also be used in more meaningful applications.\n",
        "\n",
        "The default use case on which this notebook builds is to extract timeseries of the variable \"temperature\" from a handful of measurement locations, store intermediate results to avoid repeated downloads, and package the data into a single CSV file for input in the statistical analyses and ML models shown in the subsequent notebooks. The code will also run if you extract several variables at once or increase the number of stations. However, for massive data downloads, you will need to rewrite the code to be more efficient and add some monitoring of your downloads.\n",
        "\n",
        "> Please note: In case of runtime loss or a need to run any segmented sections of the code make sure to run all the housekeeping cells before it\n",
        "\n",
        "\n",
        "\n",
        "\n"
      ]
    },
    {
      "cell_type": "markdown",
      "id": "13766b33",
      "metadata": {
        "id": "13766b33"
      },
      "source": [
        "## Initial Setup and Data download\n",
        "> This section downloads example data from TOAR for 5 stations in Germany. Refer to [TOAR Quick UserGuide](https://toar-data.fz-juelich.de/sphinx/TOAR_UG_Vol02_Quick_Start/build/html/examples.html) examples to better understand data structuring in TOAR that is used in the below snippet to download examples.\n",
        "\n",
        "<p align=\"center\">\n",
        "  <img src=\"https://github.com/maschu09/mless/blob/main/time_series_forecasting/TOARFetchingBlockDiag.png?raw=1\" alt=\"TOAR Block Diag\" width=\"600\"/>\n",
        "</p>\n"
      ]
    },
    {
      "cell_type": "markdown",
      "id": "49eb9d93",
      "metadata": {
        "id": "49eb9d93"
      },
      "source": [
        "### Housekeeping: Initial setup, declarations and method definitions\n",
        "\n",
        "\n"
      ]
    },
    {
      "cell_type": "code",
      "execution_count": 20,
      "id": "cb98c436",
      "metadata": {
        "id": "cb98c436"
      },
      "outputs": [],
      "source": [
        "# Most notebook servers like google collab should have these packages pre-installed\n",
        "# In such cases this is just a sanity check\n",
        "#!pip install pandas numpy requests tensorflow"
      ]
    },
    {
      "cell_type": "code",
      "execution_count": 21,
      "id": "b4eba776",
      "metadata": {
        "id": "b4eba776"
      },
      "outputs": [],
      "source": [
        "import requests\n",
        "import json\n",
        "import pandas as pd\n",
        "import os\n",
        "import csv\n",
        "from datetime import datetime\n"
      ]
    },
    {
      "cell_type": "markdown",
      "id": "46de7d59",
      "metadata": {
        "id": "46de7d59"
      },
      "source": [
        "#### Alternative"
      ]
    },
    {
      "cell_type": "code",
      "execution_count": 22,
      "id": "fc809476",
      "metadata": {
        "id": "fc809476"
      },
      "outputs": [],
      "source": [
        "# Mount google drive when working in colab\n",
        "hasCOLAB = 'google.colab' in str(get_ipython()) if hasattr(__builtins__,'__IPYTHON__') else False\n",
        "if hasCOLAB:\n",
        "  from google.colab import drive\n",
        "  drive.mount('/content/drive')\n",
        "  BASEPATH = '/content/drive/MyDrive'\n",
        "else:\n",
        "  BASEPATH = '.'"
      ]
    },
    {
      "cell_type": "code",
      "execution_count": 23,
      "id": "100829ff",
      "metadata": {
        "id": "100829ff"
      },
      "outputs": [
        {
          "name": "stdout",
          "output_type": "stream",
          "text": [
            "ls: drive/MyDrive: No such file or directory\n"
          ]
        }
      ],
      "source": [
        "!ls drive/MyDrive"
      ]
    },
    {
      "cell_type": "code",
      "execution_count": 24,
      "id": "e51ceddc",
      "metadata": {
        "id": "e51ceddc"
      },
      "outputs": [],
      "source": [
        "# Global constants\n",
        "TIMESERIES_DATA_DIR = BASEPATH + \"/timeseries_data/\"\n",
        "TIMESERIES_CSV_DIR = os.path.join(TIMESERIES_DATA_DIR, \"toar_csv_timeseries\")\n",
        "TIMESERIES_ID_FILE = os.path.join(TIMESERIES_DATA_DIR, \"timeseriesIDs.json\")\n",
        "MIN_FILE_SIZE_BYTES = 100\n",
        "group_columns = ['station_code', 'latitude', 'longitude']\n",
        "\n",
        "os.makedirs(TIMESERIES_DATA_DIR, exist_ok=True)\n",
        "os.makedirs(TIMESERIES_CSV_DIR, exist_ok=True)"
      ]
    },
    {
      "cell_type": "markdown",
      "id": "46af26a1",
      "metadata": {
        "id": "46af26a1"
      },
      "source": [
        "### Custom data selection for experiments\n",
        "\n",
        "The station codes in the example snippet below are checked for a common daterange for the chosen variables and offer reasonably complete timeseries. If you prefer to experiment with other datasets, consult the documentation on the [Search API](https://toar-data.fz-juelich.de/api/v2/#search-combined-endpoint-of-stations-and-timeseries).\n",
        "\n",
        "😈 **Question 1:** What are common reasons for gaps in observational data records, such as from TOAR?\n"
      ]
    },
    {
      "cell_type": "code",
      "execution_count": 25,
      "id": "9663fef6",
      "metadata": {
        "id": "9663fef6"
      },
      "outputs": [],
      "source": [
        "# German stations with good data coverage\n",
        "station_codes = [\"DENW094\", \"DEBW073\",\"DEHE020\"]\n",
        "variable_columns = [\"temp\", \"o3\"]\n",
        "# station_codes = [\"DENW094\"]\n",
        "# variable_columns = [\"no2\", \"temp\", \"o3\", \"no\", \"press\"]\n"
      ]
    },
    {
      "cell_type": "markdown",
      "id": "70d99569",
      "metadata": {
        "id": "70d99569"
      },
      "source": [
        "😈 **Task 1:** Explore the `station_codes` variable and try changing the station(s) to a different region.\n",
        "\n",
        "Below methods each have appropriate documentation and comments to illustrate the logical flow *(they are placed with enough safeguards against both the API and optimized to avoid re-downloads when interupted during partial downloads to accomodate any loss of runtime on platforms like google colab)* and briefly described here for ease of use\n",
        "\n",
        "😈 **Task 2:** Inspect the function `pivot_handle()`. What does it return, and why is pivoting important for time series analysis?\n"
      ]
    },
    {
      "cell_type": "code",
      "execution_count": 26,
      "id": "ef2eebb7",
      "metadata": {
        "id": "ef2eebb7"
      },
      "outputs": [],
      "source": [
        "def load_existing_timeseries_ids():\n",
        "    \"\"\"\n",
        "    Load existing timeseries IDs from a JSON file.\n",
        "\n",
        "    Returns:\n",
        "        dict: A dictionary containing stored timeseries metadata.\n",
        "    \"\"\"\n",
        "    return json.load(open(TIMESERIES_ID_FILE, 'r')) if os.path.exists(TIMESERIES_ID_FILE) else {}\n",
        "\n",
        "def save_timeseries_ids(timeseries_data):\n",
        "    \"\"\"\n",
        "    Save timeseries metadata to a JSON file.\n",
        "\n",
        "    Args:\n",
        "        timeseries_data (dict): A dictionary containing timeseries metadata.\n",
        "    \"\"\"\n",
        "    json.dump(timeseries_data, open(TIMESERIES_ID_FILE, 'w'), indent=4)\n",
        "\n",
        "def fetch_timeseries_data(station_codes, existing_timeseries, variable_columns):\n",
        "    \"\"\"\n",
        "    Fetch timeseries metadata for given station codes, filtering by specified variables.\n",
        "\n",
        "    Args:\n",
        "        station_codes (list): List of station codes to fetch data for.\n",
        "        existing_timeseries (dict): Dictionary of previously fetched timeseries metadata.\n",
        "        variable_columns (list): List of variable names to retain.\n",
        "\n",
        "    Returns:\n",
        "        dict: Updated dictionary containing filtered timeseries metadata.\n",
        "    \"\"\"\n",
        "    base_url = \"http://toar-data.fz-juelich.de/api/v2/search/?codes=\"\n",
        "    unique_entries = existing_timeseries.copy()\n",
        "    processed_station_codes = {details['station_code'] for details in existing_timeseries.values()}\n",
        "\n",
        "    for code in station_codes:\n",
        "        if code in processed_station_codes:\n",
        "            print(f\"\\t\\tStation {code} is already processed, skipping.\")\n",
        "            continue\n",
        "\n",
        "        response = requests.get(base_url + code, timeout=1000)\n",
        "        if response.status_code == 200:\n",
        "            for entry in response.json():\n",
        "                if (variable_name := entry.get('variable', {}).get('name')) in variable_columns:\n",
        "                    timeseries_id = entry.get('id')\n",
        "                    if timeseries_id not in unique_entries:\n",
        "                        unique_entries[timeseries_id] = {\n",
        "                            'data_start_date': entry.get('data_start_date'),\n",
        "                            'data_end_date': entry.get('data_end_date'),\n",
        "                            'variable_name': variable_name,\n",
        "                            'station_code': code,\n",
        "                            'latitude': entry.get('station', {}).get('coordinates', {}).get('lat'),\n",
        "                            'longitude': entry.get('station', {}).get('coordinates', {}).get('lng'),\n",
        "                        }\n",
        "        else:\n",
        "            print(f\"\\t\\tFailed to fetch data for station {code}. Status code: {response.status_code}\")\n",
        "    return unique_entries\n",
        "\n",
        "def pivot_handle(dfs, metadata_columns, variable_columns):\n",
        "    \"\"\"\n",
        "    Pivot and structure the timeseries dataframe for sequential data analysis.\n",
        "\n",
        "    Args:\n",
        "        dfs (pd.DataFrame): Dataframe containing timeseries data.\n",
        "        metadata_columns (list): List of metadata column names.\n",
        "        variable_columns (list): List of variable names to include.\n",
        "\n",
        "    Returns:\n",
        "        pd.DataFrame: Processed dataframe with pivoted structure.\n",
        "    \"\"\"\n",
        "    pivot_df = dfs.pivot_table(index='datetime', columns='variable_name', values='value', aggfunc='mean')\n",
        "    pivot_df.reset_index(inplace=True)\n",
        "\n",
        "    print(f\"Station {dfs['station_code'].unique()} min time: {dfs['datetime'].min()}, max time: {dfs['datetime'].max()}, hours between: {(dfs['datetime'].max() - dfs['datetime'].min()) / pd.Timedelta(hours=1):.2f}\")\n",
        "    reference_index = pd.date_range(start=dfs['datetime'].min(), end=dfs['datetime'].max(), freq=\"h\", tz=\"UTC\")\n",
        "    reference_df = pd.DataFrame({'datetime': reference_index})\n",
        "\n",
        "    pivot_df_ = reference_df.merge(pivot_df, on='datetime', how='left')\n",
        "\n",
        "    for col in metadata_columns:\n",
        "        if dfs[col].notna().any():\n",
        "            value = dfs[col].dropna().iloc[0]\n",
        "            pivot_df_.insert(0, col, value)\n",
        "        else:\n",
        "            print(f\"Station {dfs['station_code'].unique()}: metadata {col} has no value\")\n",
        "\n",
        "    return pivot_df_\n",
        "\n",
        "def download_csv_data(timeseries_data, variable_columns):\n",
        "    \"\"\"\n",
        "    Download and process CSV data for each timeseries ID.\n",
        "\n",
        "    Args:\n",
        "        timeseries_data (dict): Dictionary containing timeseries metadata.\n",
        "        variable_columns (list): List of variable names to process.\n",
        "\n",
        "    Returns:\n",
        "        pd.DataFrame: Combined dataframe of all timeseries data.\n",
        "    \"\"\"\n",
        "    dataframes = []\n",
        "    metadata_columns = ['station_code', 'latitude', 'longitude']\n",
        "\n",
        "    for ts_id, details in timeseries_data.items():\n",
        "        csv_path = os.path.join(TIMESERIES_CSV_DIR, f\"{ts_id}.csv\")\n",
        "\n",
        "        if os.path.exists(csv_path) and os.path.getsize(csv_path) > MIN_FILE_SIZE_BYTES:\n",
        "            print(f\"\\tCSV already exists for timeseries ID {ts_id}, skipping download.\")\n",
        "        else:\n",
        "            print(f\"\\tDownloading data for timeseries ID {ts_id}\")\n",
        "            url = f\"http://toar-data.fz-juelich.de/api/v2/data/timeseries/{ts_id}?format=csv\"\n",
        "            try:\n",
        "                response = requests.get(url, stream=True, timeout=1000)\n",
        "                response.raise_for_status()\n",
        "                with open(csv_path, 'wb') as file:\n",
        "                    file.writelines(response.iter_content(chunk_size=8192))\n",
        "                print(f\"\\t\\tRaw data CSV of {ts_id} saved: {csv_path}\")\n",
        "            except requests.exceptions.RequestException as e:\n",
        "                print(f\"\\t\\tFailed to download data for timeseries ID {ts_id}. Error: {e}\")\n",
        "                continue\n",
        "\n",
        "        try:\n",
        "            df = pd.read_csv(csv_path, skiprows=lambda i: i < next(i for i, line in enumerate(open(csv_path)) if line.startswith('datetime')), low_memory=False)\n",
        "            df['datetime'] = pd.to_datetime(df['datetime'], format='mixed')\n",
        "            df[['variable_name', 'station_code', 'latitude', 'longitude']] = details['variable_name'], details['station_code'], details['latitude'], details['longitude']\n",
        "            print(f\"Dataframe for timeseries ID {ts_id} loaded successfully with shape {df.shape}\")\n",
        "            dataframes.append(pivot_handle(df, metadata_columns, variable_columns))\n",
        "        except (pd.errors.EmptyDataError, pd.errors.ParserError) as e:\n",
        "            print(f\"\\tError processing CSV for timeseries ID {ts_id}: {e}\")\n",
        "            continue\n",
        "\n",
        "    return pd.concat(dataframes, ignore_index=True).sort_values(by=['station_code', 'datetime']) if dataframes else pd.DataFrame()"
      ]
    },
    {
      "cell_type": "markdown",
      "id": "6dab0925",
      "metadata": {
        "id": "6dab0925"
      },
      "source": [
        "### Download via REST API\n",
        "\n",
        "😈 **Task 3:** Try downloading a different variable or add another pollutant (e.g., `so2`). What changes?\n"
      ]
    },
    {
      "cell_type": "code",
      "execution_count": 19,
      "id": "5c3464c4",
      "metadata": {
        "id": "5c3464c4",
        "outputId": "32aa6df6-b53a-47c9-f150-dca20e15ce0f"
      },
      "outputs": [
        {
          "name": "stdout",
          "output_type": "stream",
          "text": [
            "\t Number of time series meta data fetched : 6\n",
            "\tDownloading data for timeseries ID 73\n",
            "\t\tFailed to download data for timeseries ID 73. Error: 502 Server Error: Bad Gateway for url: https://toar-data.fz-juelich.de/api/v2/data/timeseries/73?format=csv\n",
            "\tDownloading data for timeseries ID 76\n",
            "\t\tRaw data CSV of 76 saved: ./timeseries_data/toar_csv_timeseries/76.csv\n",
            "Dataframe for timeseries ID 76 loaded successfully with shape (246628, 9)\n",
            "Station ['DENW094'] min time: 1997-01-01 00:00:00+00:00, max time: 2025-06-30 11:00:00+00:00, hours between: 249779.00\n",
            "\tDownloading data for timeseries ID 18645\n",
            "\t\tFailed to download data for timeseries ID 18645. Error: 502 Server Error: Bad Gateway for url: https://toar-data.fz-juelich.de/api/v2/data/timeseries/18645?format=csv\n",
            "\tDownloading data for timeseries ID 22639\n",
            "\t\tRaw data CSV of 22639 saved: ./timeseries_data/toar_csv_timeseries/22639.csv\n",
            "Dataframe for timeseries ID 22639 loaded successfully with shape (110890, 9)\n",
            "Station ['DEBW073'] min time: 1997-01-01 00:00:00+00:00, max time: 2011-12-31 23:00:00+00:00, hours between: 131471.00\n",
            "\tDownloading data for timeseries ID 18022\n",
            "\t\tRaw data CSV of 18022 saved: ./timeseries_data/toar_csv_timeseries/18022.csv\n",
            "Dataframe for timeseries ID 18022 loaded successfully with shape (220953, 9)\n",
            "Station ['DEHE020'] min time: 1997-01-01 00:00:00+00:00, max time: 2025-06-30 11:00:00+00:00, hours between: 249779.00\n",
            "\tDownloading data for timeseries ID 18698\n",
            "\t\tFailed to download data for timeseries ID 18698. Error: 502 Server Error: Bad Gateway for url: https://toar-data.fz-juelich.de/api/v2/data/timeseries/18698?format=csv\n",
            "\t Total dataFrames processed : 631032 and shape of first dataframe (631032, 5).\n"
          ]
        },
        {
          "data": {
            "application/vnd.microsoft.datawrangler.viewer.v0+json": {
              "columns": [
                {
                  "name": "index",
                  "rawType": "int64",
                  "type": "integer"
                },
                {
                  "name": "longitude",
                  "rawType": "float64",
                  "type": "float"
                },
                {
                  "name": "latitude",
                  "rawType": "float64",
                  "type": "float"
                },
                {
                  "name": "station_code",
                  "rawType": "object",
                  "type": "string"
                },
                {
                  "name": "datetime",
                  "rawType": "datetime64[ns, UTC]",
                  "type": "unknown"
                },
                {
                  "name": "temp",
                  "rawType": "float64",
                  "type": "float"
                }
              ],
              "ref": "ed1bc9ea-a28d-439e-994e-28359d902bc1",
              "rows": [
                [
                  "249780",
                  "7.567796",
                  "47.819182",
                  "DEBW073",
                  "1997-01-01 00:00:00+00:00",
                  "-10.0"
                ],
                [
                  "249781",
                  "7.567796",
                  "47.819182",
                  "DEBW073",
                  "1997-01-01 01:00:00+00:00",
                  "-11.0"
                ],
                [
                  "249782",
                  "7.567796",
                  "47.819182",
                  "DEBW073",
                  "1997-01-01 02:00:00+00:00",
                  "-11.0"
                ],
                [
                  "249783",
                  "7.567796",
                  "47.819182",
                  "DEBW073",
                  "1997-01-01 03:00:00+00:00",
                  "-12.0"
                ],
                [
                  "249784",
                  "7.567796",
                  "47.819182",
                  "DEBW073",
                  "1997-01-01 04:00:00+00:00",
                  "-12.0"
                ]
              ],
              "shape": {
                "columns": 5,
                "rows": 5
              }
            },
            "text/html": [
              "<div>\n",
              "<style scoped>\n",
              "    .dataframe tbody tr th:only-of-type {\n",
              "        vertical-align: middle;\n",
              "    }\n",
              "\n",
              "    .dataframe tbody tr th {\n",
              "        vertical-align: top;\n",
              "    }\n",
              "\n",
              "    .dataframe thead th {\n",
              "        text-align: right;\n",
              "    }\n",
              "</style>\n",
              "<table border=\"1\" class=\"dataframe\">\n",
              "  <thead>\n",
              "    <tr style=\"text-align: right;\">\n",
              "      <th></th>\n",
              "      <th>longitude</th>\n",
              "      <th>latitude</th>\n",
              "      <th>station_code</th>\n",
              "      <th>datetime</th>\n",
              "      <th>temp</th>\n",
              "    </tr>\n",
              "  </thead>\n",
              "  <tbody>\n",
              "    <tr>\n",
              "      <th>249780</th>\n",
              "      <td>7.567796</td>\n",
              "      <td>47.819182</td>\n",
              "      <td>DEBW073</td>\n",
              "      <td>1997-01-01 00:00:00+00:00</td>\n",
              "      <td>-10.0</td>\n",
              "    </tr>\n",
              "    <tr>\n",
              "      <th>249781</th>\n",
              "      <td>7.567796</td>\n",
              "      <td>47.819182</td>\n",
              "      <td>DEBW073</td>\n",
              "      <td>1997-01-01 01:00:00+00:00</td>\n",
              "      <td>-11.0</td>\n",
              "    </tr>\n",
              "    <tr>\n",
              "      <th>249782</th>\n",
              "      <td>7.567796</td>\n",
              "      <td>47.819182</td>\n",
              "      <td>DEBW073</td>\n",
              "      <td>1997-01-01 02:00:00+00:00</td>\n",
              "      <td>-11.0</td>\n",
              "    </tr>\n",
              "    <tr>\n",
              "      <th>249783</th>\n",
              "      <td>7.567796</td>\n",
              "      <td>47.819182</td>\n",
              "      <td>DEBW073</td>\n",
              "      <td>1997-01-01 03:00:00+00:00</td>\n",
              "      <td>-12.0</td>\n",
              "    </tr>\n",
              "    <tr>\n",
              "      <th>249784</th>\n",
              "      <td>7.567796</td>\n",
              "      <td>47.819182</td>\n",
              "      <td>DEBW073</td>\n",
              "      <td>1997-01-01 04:00:00+00:00</td>\n",
              "      <td>-12.0</td>\n",
              "    </tr>\n",
              "  </tbody>\n",
              "</table>\n",
              "</div>"
            ],
            "text/plain": [
              "        longitude   latitude station_code                  datetime  temp\n",
              "249780   7.567796  47.819182      DEBW073 1997-01-01 00:00:00+00:00 -10.0\n",
              "249781   7.567796  47.819182      DEBW073 1997-01-01 01:00:00+00:00 -11.0\n",
              "249782   7.567796  47.819182      DEBW073 1997-01-01 02:00:00+00:00 -11.0\n",
              "249783   7.567796  47.819182      DEBW073 1997-01-01 03:00:00+00:00 -12.0\n",
              "249784   7.567796  47.819182      DEBW073 1997-01-01 04:00:00+00:00 -12.0"
            ]
          },
          "execution_count": 19,
          "metadata": {},
          "output_type": "execute_result"
        }
      ],
      "source": [
        "# Load existing timeseries IDs from json to skip calls to TOAR\n",
        "existing_timeseries = load_existing_timeseries_ids()\n",
        "\n",
        "timeseries_data = fetch_timeseries_data(station_codes, existing_timeseries,variable_columns)\n",
        "print(f\"\\t Number of time series meta data fetched : {len(timeseries_data)}\")\n",
        "\n",
        "# save existing timeseries IDs as json to reduce calls to TOAR in future\n",
        "save_timeseries_ids(timeseries_data)\n",
        "\n",
        "dataframes = download_csv_data(timeseries_data,variable_columns)\n",
        "print(f\"\\t Total dataFrames processed : {len(dataframes)} and shape of first dataframe {dataframes.shape}.\")\n",
        "\n",
        "dataframes.head()"
      ]
    },
    {
      "cell_type": "markdown",
      "id": "86c8d25f",
      "metadata": {
        "id": "86c8d25f"
      },
      "source": [
        "Most of the data in TOAR is observational data which has few or many data gaps. The \"temp\"(erature) data that you downloaded is actually from a model (ERA5 reanalysis) and should therefore not have any missing values (except if your requested daterange extends beyond the period for which we extracted ERA5 data).\n",
        "\n",
        "To demonstrate a more typical workflow of handling observational data, we will now inspect, interpolate, and remove missing data values. Note that the pivot routine above merged data from different variables together and introduced NaNs."
      ]
    },
    {
      "cell_type": "markdown",
      "id": "2588a2f2",
      "metadata": {
        "id": "2588a2f2"
      },
      "source": [
        "## Data handling (observational gaps)\n",
        "\n",
        "😈 **Task 4:** Insert some code to find out how many NaN values each variable in the dataset contains. Even better: try to generate a bargraph showing the number of instances with consecutive NaN values (1, 2, 3, ..., more than 10).\n",
        "\n",
        "To provide as much training data to ML models as possible, you typically want to fill gaps through interpolation. For environmental data, it is common practice to interpolate over up to 6 hours but not longer. In many cases, linear interpolation will work just fine.\n",
        "\n",
        "\n",
        "😈 **Question 3:** Why is it acceptable to fill up to 6 missing hourly values in this dataset?\n",
        "\n",
        "😈 **Question 4:** Why do you need to interpolate at all? Wouldn't it be sufficient to randomly sample from the existing data?\n"
      ]
    },
    {
      "cell_type": "code",
      "execution_count": 13,
      "id": "0237f955",
      "metadata": {
        "id": "0237f955"
      },
      "outputs": [],
      "source": [
        "import numpy as np\n",
        "def fill_six_nans(group):\n",
        "    \"\"\"\n",
        "    Fills up to six consecutive NaN values in a given pandas Series using linear interpolation\n",
        "    if the NaNs are surrounded by valid values. If the NaNs are at the start, they are replaced\n",
        "    with zeros, and if they are at the end, they are filled with the last known value.\n",
        "\n",
        "    Args:\n",
        "        group (pd.Series): The input Series with potential NaN values.\n",
        "\n",
        "    Returns:\n",
        "        pd.Series: A Series where up to six consecutive NaNs are interpolated, and longer NaN\n",
        "        sequences are partially filled while preserving the original index.\n",
        "    \"\"\"\n",
        "    values = group.to_numpy()\n",
        "    i = 0\n",
        "    while i < len(values):\n",
        "        if np.isnan(values[i]):\n",
        "            start = i\n",
        "            while i < len(values) and np.isnan(values[i]):\n",
        "                i += 1\n",
        "            end = min(i, start + 6)  # Limit to filling only 6 NaNs\n",
        "\n",
        "            if start > 0 and i < len(values):  # NaNs in the middle\n",
        "                fill_values = np.linspace(values[start - 1], values[i], end - start + 2)[1:-1]\n",
        "            elif start == 0:  # NaNs at the start\n",
        "                fill_values = [0] * (end - start)\n",
        "            elif i >= len(values):  # NaNs at the end\n",
        "                fill_values = [values[start - 1]] * (end - start)\n",
        "            values[start:end] = fill_values\n",
        "        else:\n",
        "            i += 1\n",
        "    return pd.Series(values, index=group.index)"
      ]
    },
    {
      "cell_type": "code",
      "execution_count": 15,
      "id": "1df74fe4",
      "metadata": {},
      "outputs": [],
      "source": [
        "dataframes = pd.read_csv(\"timeseries_data/raw_data.csv\")"
      ]
    },
    {
      "cell_type": "code",
      "execution_count": 17,
      "id": "d861e5dd",
      "metadata": {
        "id": "d861e5dd",
        "outputId": "72ec71f5-cdce-4dc1-d694-f446894d9f34"
      },
      "outputs": [
        {
          "data": {
            "application/vnd.microsoft.datawrangler.viewer.v0+json": {
              "columns": [
                {
                  "name": "index",
                  "rawType": "object",
                  "type": "string"
                },
                {
                  "name": "0",
                  "rawType": "int64",
                  "type": "integer"
                }
              ],
              "ref": "d3e047d0-9454-4f9b-bed9-d7e347104068",
              "rows": [
                [
                  "longitude",
                  "0"
                ],
                [
                  "latitude",
                  "0"
                ],
                [
                  "station_code",
                  "0"
                ],
                [
                  "datetime",
                  "0"
                ],
                [
                  "o3",
                  "0"
                ],
                [
                  "temp",
                  "0"
                ]
              ],
              "shape": {
                "columns": 1,
                "rows": 6
              }
            },
            "text/plain": [
              "longitude       0\n",
              "latitude        0\n",
              "station_code    0\n",
              "datetime        0\n",
              "o3              0\n",
              "temp            0\n",
              "dtype: int64"
            ]
          },
          "execution_count": 17,
          "metadata": {},
          "output_type": "execute_result"
        }
      ],
      "source": [
        "dataframes[variable_columns] = dataframes.groupby(group_columns)[variable_columns].transform(fill_six_nans)\n",
        "dataframes.isna().sum()"
      ]
    },
    {
      "cell_type": "markdown",
      "id": "c67c220f",
      "metadata": {
        "id": "c67c220f"
      },
      "source": [
        "Now rest of the Nas can be dropped as that station might not have data collected in the time period and the data needs to be normalized.\n",
        "\n",
        "😈 **Question 5:** What risks might arise if normalization is applied *before* handling missing values?\n"
      ]
    },
    {
      "cell_type": "code",
      "execution_count": 18,
      "id": "079160de",
      "metadata": {
        "id": "079160de",
        "outputId": "df195013-3e82-4da9-ee31-810829f430f0"
      },
      "outputs": [
        {
          "data": {
            "application/vnd.microsoft.datawrangler.viewer.v0+json": {
              "columns": [
                {
                  "name": "index",
                  "rawType": "object",
                  "type": "string"
                },
                {
                  "name": "0",
                  "rawType": "int64",
                  "type": "integer"
                }
              ],
              "ref": "a6df8903-f62c-4621-959e-40430f171209",
              "rows": [
                [
                  "longitude",
                  "0"
                ],
                [
                  "latitude",
                  "0"
                ],
                [
                  "station_code",
                  "0"
                ],
                [
                  "datetime",
                  "0"
                ],
                [
                  "o3",
                  "0"
                ],
                [
                  "temp",
                  "0"
                ]
              ],
              "shape": {
                "columns": 1,
                "rows": 6
              }
            },
            "text/plain": [
              "longitude       0\n",
              "latitude        0\n",
              "station_code    0\n",
              "datetime        0\n",
              "o3              0\n",
              "temp            0\n",
              "dtype: int64"
            ]
          },
          "execution_count": 18,
          "metadata": {},
          "output_type": "execute_result"
        }
      ],
      "source": [
        "dataframes = dataframes.dropna()\n",
        "dataframes.isna().sum()"
      ]
    },
    {
      "cell_type": "code",
      "execution_count": 19,
      "id": "e2b6ef96",
      "metadata": {
        "id": "e2b6ef96",
        "outputId": "14550138-169f-4ea7-9962-f4739424e8ee"
      },
      "outputs": [
        {
          "data": {
            "text/plain": [
              "(1033505, 6)"
            ]
          },
          "execution_count": 19,
          "metadata": {},
          "output_type": "execute_result"
        }
      ],
      "source": [
        "dataframes.shape"
      ]
    },
    {
      "cell_type": "markdown",
      "id": "3618005c",
      "metadata": {
        "id": "3618005c"
      },
      "source": [
        "## Staged data loading (Housekeeping)\n",
        "\n",
        "Finally, and before we want to perform any analysis of the data, we will store the \"cleaned\" dataset for later re-use. Subsequent notebooks can then easily reload the \"raw_data\" from the local storage or your mounted google drive folder when needed."
      ]
    },
    {
      "cell_type": "code",
      "execution_count": null,
      "id": "e6e51c3f",
      "metadata": {
        "id": "e6e51c3f"
      },
      "outputs": [],
      "source": [
        "dataframes.to_csv(os.path.join(TIMESERIES_DATA_DIR, \"raw_data.csv\"), index=False)"
      ]
    },
    {
      "cell_type": "markdown",
      "id": "838444Ie5Lsr",
      "metadata": {
        "id": "838444Ie5Lsr"
      },
      "source": [
        "😈 **Task 6:** Re-inspect the code above and reflect on the data management strategy employed here. What happens if you re-run the script after changing station codes or variables? Would the notebook repeat all download operations if you add a single station or variable? What could you do to improve this workflow?\n",
        "\n",
        "Don't waste time by trying to build the ultimate do-it-all dataloader - you can attend my lecture on Earth System Data Processing if you are keen to go deeper down this route."
      ]
    },
    {
      "cell_type": "markdown",
      "id": "45c18223",
      "metadata": {
        "id": "45c18223"
      },
      "source": [
        "### Leftovers from first cleanup\n",
        "\n",
        "\n",
        "Below cell can be used to reload data if using an open source notebook servers like google colab and the if the usage limit is reached or for other issues"
      ]
    },
    {
      "cell_type": "code",
      "execution_count": 14,
      "id": "626bfaba",
      "metadata": {
        "id": "626bfaba",
        "outputId": "5f845c54-d6eb-40f2-8bbf-dcc5a1138ade"
      },
      "outputs": [
        {
          "data": {
            "application/vnd.microsoft.datawrangler.viewer.v0+json": {
              "columns": [
                {
                  "name": "index",
                  "rawType": "int64",
                  "type": "integer"
                },
                {
                  "name": "longitude",
                  "rawType": "float64",
                  "type": "float"
                },
                {
                  "name": "latitude",
                  "rawType": "float64",
                  "type": "float"
                },
                {
                  "name": "station_code",
                  "rawType": "object",
                  "type": "string"
                },
                {
                  "name": "datetime",
                  "rawType": "datetime64[ns, UTC]",
                  "type": "unknown"
                },
                {
                  "name": "temp",
                  "rawType": "float64",
                  "type": "float"
                }
              ],
              "ref": "60eaa99f-412c-4beb-a31b-3833ae89eebc",
              "rows": [
                [
                  "0",
                  "7.567796",
                  "47.819182",
                  "DEBW073",
                  "1997-01-01 00:00:00+00:00",
                  "-10.0"
                ],
                [
                  "1",
                  "7.567796",
                  "47.819182",
                  "DEBW073",
                  "1997-01-01 01:00:00+00:00",
                  "-11.0"
                ],
                [
                  "2",
                  "7.567796",
                  "47.819182",
                  "DEBW073",
                  "1997-01-01 02:00:00+00:00",
                  "-11.0"
                ],
                [
                  "3",
                  "7.567796",
                  "47.819182",
                  "DEBW073",
                  "1997-01-01 03:00:00+00:00",
                  "-12.0"
                ],
                [
                  "4",
                  "7.567796",
                  "47.819182",
                  "DEBW073",
                  "1997-01-01 04:00:00+00:00",
                  "-12.0"
                ]
              ],
              "shape": {
                "columns": 5,
                "rows": 5
              }
            },
            "text/html": [
              "<div>\n",
              "<style scoped>\n",
              "    .dataframe tbody tr th:only-of-type {\n",
              "        vertical-align: middle;\n",
              "    }\n",
              "\n",
              "    .dataframe tbody tr th {\n",
              "        vertical-align: top;\n",
              "    }\n",
              "\n",
              "    .dataframe thead th {\n",
              "        text-align: right;\n",
              "    }\n",
              "</style>\n",
              "<table border=\"1\" class=\"dataframe\">\n",
              "  <thead>\n",
              "    <tr style=\"text-align: right;\">\n",
              "      <th></th>\n",
              "      <th>longitude</th>\n",
              "      <th>latitude</th>\n",
              "      <th>station_code</th>\n",
              "      <th>datetime</th>\n",
              "      <th>temp</th>\n",
              "    </tr>\n",
              "  </thead>\n",
              "  <tbody>\n",
              "    <tr>\n",
              "      <th>0</th>\n",
              "      <td>7.567796</td>\n",
              "      <td>47.819182</td>\n",
              "      <td>DEBW073</td>\n",
              "      <td>1997-01-01 00:00:00+00:00</td>\n",
              "      <td>-10.0</td>\n",
              "    </tr>\n",
              "    <tr>\n",
              "      <th>1</th>\n",
              "      <td>7.567796</td>\n",
              "      <td>47.819182</td>\n",
              "      <td>DEBW073</td>\n",
              "      <td>1997-01-01 01:00:00+00:00</td>\n",
              "      <td>-11.0</td>\n",
              "    </tr>\n",
              "    <tr>\n",
              "      <th>2</th>\n",
              "      <td>7.567796</td>\n",
              "      <td>47.819182</td>\n",
              "      <td>DEBW073</td>\n",
              "      <td>1997-01-01 02:00:00+00:00</td>\n",
              "      <td>-11.0</td>\n",
              "    </tr>\n",
              "    <tr>\n",
              "      <th>3</th>\n",
              "      <td>7.567796</td>\n",
              "      <td>47.819182</td>\n",
              "      <td>DEBW073</td>\n",
              "      <td>1997-01-01 03:00:00+00:00</td>\n",
              "      <td>-12.0</td>\n",
              "    </tr>\n",
              "    <tr>\n",
              "      <th>4</th>\n",
              "      <td>7.567796</td>\n",
              "      <td>47.819182</td>\n",
              "      <td>DEBW073</td>\n",
              "      <td>1997-01-01 04:00:00+00:00</td>\n",
              "      <td>-12.0</td>\n",
              "    </tr>\n",
              "  </tbody>\n",
              "</table>\n",
              "</div>"
            ],
            "text/plain": [
              "   longitude   latitude station_code                  datetime  temp\n",
              "0   7.567796  47.819182      DEBW073 1997-01-01 00:00:00+00:00 -10.0\n",
              "1   7.567796  47.819182      DEBW073 1997-01-01 01:00:00+00:00 -11.0\n",
              "2   7.567796  47.819182      DEBW073 1997-01-01 02:00:00+00:00 -11.0\n",
              "3   7.567796  47.819182      DEBW073 1997-01-01 03:00:00+00:00 -12.0\n",
              "4   7.567796  47.819182      DEBW073 1997-01-01 04:00:00+00:00 -12.0"
            ]
          },
          "execution_count": 14,
          "metadata": {},
          "output_type": "execute_result"
        }
      ],
      "source": [
        "import pandas as pd\n",
        "import os\n",
        "\n",
        "## Raw data csv is also made available for the select stations in URL:\n",
        "url = \"https://drive.google.com/uc?export=download&id=1cmTTWY3f18SikgRBcZzhtFswIf7XwPJq\"\n",
        "dataframes = pd.read_csv(url,parse_dates=[\"datetime\"])\n",
        "## Else if using local files:\n",
        "# dataframes = pd.read_csv(os.path.join(TIMESERIES_DATA_DIR, \"raw_data.csv\"))\n",
        "dataframes.head()"
      ]
    },
    {
      "cell_type": "code",
      "execution_count": 15,
      "id": "b9d4b72a",
      "metadata": {
        "id": "b9d4b72a",
        "outputId": "558d69c8-8e4e-4df4-dd9b-9f4df088a0f4"
      },
      "outputs": [
        {
          "data": {
            "text/plain": [
              "(579480, 5)"
            ]
          },
          "execution_count": 15,
          "metadata": {},
          "output_type": "execute_result"
        }
      ],
      "source": [
        "dataframes.shape"
      ]
    },
    {
      "cell_type": "code",
      "execution_count": 16,
      "id": "44b4e968",
      "metadata": {
        "id": "44b4e968",
        "outputId": "78e2a0da-416a-4421-dbea-8b82f6116367"
      },
      "outputs": [
        {
          "data": {
            "application/vnd.microsoft.datawrangler.viewer.v0+json": {
              "columns": [
                {
                  "name": "index",
                  "rawType": "object",
                  "type": "string"
                },
                {
                  "name": "0",
                  "rawType": "int64",
                  "type": "integer"
                }
              ],
              "ref": "4351b88f-3ea3-4b22-912a-b6cd6fae004b",
              "rows": [
                [
                  "longitude",
                  "0"
                ],
                [
                  "latitude",
                  "0"
                ],
                [
                  "station_code",
                  "0"
                ],
                [
                  "datetime",
                  "0"
                ],
                [
                  "temp",
                  "0"
                ]
              ],
              "shape": {
                "columns": 1,
                "rows": 5
              }
            },
            "text/plain": [
              "longitude       0\n",
              "latitude        0\n",
              "station_code    0\n",
              "datetime        0\n",
              "temp            0\n",
              "dtype: int64"
            ]
          },
          "execution_count": 16,
          "metadata": {},
          "output_type": "execute_result"
        }
      ],
      "source": [
        "dataframes.isna().sum()"
      ]
    },
    {
      "cell_type": "markdown",
      "id": "5ZLNbEWgo7c0",
      "metadata": {
        "id": "5ZLNbEWgo7c0"
      },
      "source": [
        "### (Optional/Advanced) Multi-Variable Case:\n",
        "\n",
        "We've seen how to download one variable for multiple stations. Now let's try and download multi-variables for one station.  "
      ]
    },
    {
      "cell_type": "markdown",
      "id": "r8CVdDesp9bq",
      "metadata": {
        "id": "r8CVdDesp9bq"
      },
      "source": [
        "- You know the drill at this point:\n",
        "  - Set the paths for loading the timeseries_ids(unique to each variable) corresponding to the station code and downloading timeseries data for all the variables.\n",
        "  - Fetch the variables for the station of interest\n",
        "  - Fill the gaps upto 6hrs\n",
        "  - Drop NAs\n"
      ]
    },
    {
      "cell_type": "markdown",
      "id": "tVyo57nMqOd4",
      "metadata": {
        "id": "tVyo57nMqOd4"
      },
      "source": [
        "#### Fetch the variables"
      ]
    },
    {
      "cell_type": "code",
      "execution_count": 27,
      "id": "Mk8UUqZOqN05",
      "metadata": {
        "id": "Mk8UUqZOqN05"
      },
      "outputs": [],
      "source": [
        "# Let us focus on one single station\n",
        "station_codes = [\"DENW094\"]\n",
        "# variable_columns = [\"no2\", \"temp\", \"o3\", \"no\", \"press\"]\n",
        "variable_columns = [\"temp\", \"o3\"]\n",
        "\n",
        "# Note: the TOAR API sets limits to anonymous users; you can download max 3 timeseries with one request.\n",
        "# Hence, you will need to adapt this code to load data of all 5 variables.\n"
      ]
    },
    {
      "cell_type": "markdown",
      "id": "FvPc3lp8aoN9",
      "metadata": {
        "id": "FvPc3lp8aoN9"
      },
      "source": [
        "</details>"
      ]
    },
    {
      "cell_type": "markdown",
      "id": "BBpWNtA2pX5K",
      "metadata": {
        "id": "BBpWNtA2pX5K"
      },
      "source": [
        "#### Download the variables data for that 1 station via REST API"
      ]
    },
    {
      "cell_type": "code",
      "execution_count": 28,
      "id": "yIGfmD85pMF7",
      "metadata": {
        "colab": {
          "base_uri": "https://localhost:8080/",
          "height": 501
        },
        "id": "yIGfmD85pMF7",
        "outputId": "f69a57a6-3ef4-4cc6-b110-d7038f759867"
      },
      "outputs": [
        {
          "name": "stdout",
          "output_type": "stream",
          "text": [
            "\t\tStation DENW094 is already processed, skipping.\n",
            "\t Number of time series meta data fetched : 6\n",
            "\tCSV already exists for timeseries ID 73, skipping download.\n",
            "Dataframe for timeseries ID 73 loaded successfully with shape (211320, 9)\n",
            "Station ['DENW094'] min time: 1999-07-02 18:00:00+00:00, max time: 2025-06-30 11:00:00+00:00, hours between: 227873.00\n",
            "\tCSV already exists for timeseries ID 76, skipping download.\n",
            "Dataframe for timeseries ID 76 loaded successfully with shape (246628, 9)\n",
            "Station ['DENW094'] min time: 1997-01-01 00:00:00+00:00, max time: 2025-06-30 11:00:00+00:00, hours between: 249779.00\n",
            "\tCSV already exists for timeseries ID 18645, skipping download.\n",
            "Dataframe for timeseries ID 18645 loaded successfully with shape (210742, 9)\n",
            "Station ['DEBW073'] min time: 1994-01-01 00:00:00+00:00, max time: 2025-06-30 11:00:00+00:00, hours between: 276083.00\n",
            "\tCSV already exists for timeseries ID 22639, skipping download.\n",
            "Dataframe for timeseries ID 22639 loaded successfully with shape (110890, 9)\n",
            "Station ['DEBW073'] min time: 1997-01-01 00:00:00+00:00, max time: 2011-12-31 23:00:00+00:00, hours between: 131471.00\n",
            "\tCSV already exists for timeseries ID 18022, skipping download.\n",
            "Dataframe for timeseries ID 18022 loaded successfully with shape (220953, 9)\n",
            "Station ['DEHE020'] min time: 1997-01-01 00:00:00+00:00, max time: 2025-06-30 11:00:00+00:00, hours between: 249779.00\n",
            "\tCSV already exists for timeseries ID 18698, skipping download.\n",
            "Dataframe for timeseries ID 18698 loaded successfully with shape (285163, 9)\n",
            "Station ['DEHE020'] min time: 1992-03-12 05:00:00+00:00, max time: 2025-06-30 11:00:00+00:00, hours between: 291918.00\n",
            "\t Total dataFrames processed : 1426909 and shape of first dataframe (1426909, 6).\n"
          ]
        },
        {
          "data": {
            "application/vnd.microsoft.datawrangler.viewer.v0+json": {
              "columns": [
                {
                  "name": "index",
                  "rawType": "int64",
                  "type": "integer"
                },
                {
                  "name": "longitude",
                  "rawType": "float64",
                  "type": "float"
                },
                {
                  "name": "latitude",
                  "rawType": "float64",
                  "type": "float"
                },
                {
                  "name": "station_code",
                  "rawType": "object",
                  "type": "string"
                },
                {
                  "name": "datetime",
                  "rawType": "datetime64[ns, UTC]",
                  "type": "unknown"
                },
                {
                  "name": "o3",
                  "rawType": "float64",
                  "type": "float"
                },
                {
                  "name": "temp",
                  "rawType": "float64",
                  "type": "float"
                }
              ],
              "ref": "946f5f74-7924-4b96-883d-4bebbbe0455e",
              "rows": [
                [
                  "477654",
                  "7.567796",
                  "47.819182",
                  "DEBW073",
                  "1994-01-01 00:00:00+00:00",
                  "32.580600000000004",
                  null
                ],
                [
                  "477655",
                  "7.567796",
                  "47.819182",
                  "DEBW073",
                  "1994-01-01 01:00:00+00:00",
                  "31.57812",
                  null
                ],
                [
                  "477656",
                  "7.567796",
                  "47.819182",
                  "DEBW073",
                  "1994-01-01 02:00:00+00:00",
                  "26.56572",
                  null
                ],
                [
                  "477657",
                  "7.567796",
                  "47.819182",
                  "DEBW073",
                  "1994-01-01 03:00:00+00:00",
                  "27.06696",
                  null
                ],
                [
                  "477658",
                  "7.567796",
                  "47.819182",
                  "DEBW073",
                  "1994-01-01 04:00:00+00:00",
                  "32.07936",
                  null
                ]
              ],
              "shape": {
                "columns": 6,
                "rows": 5
              }
            },
            "text/html": [
              "<div>\n",
              "<style scoped>\n",
              "    .dataframe tbody tr th:only-of-type {\n",
              "        vertical-align: middle;\n",
              "    }\n",
              "\n",
              "    .dataframe tbody tr th {\n",
              "        vertical-align: top;\n",
              "    }\n",
              "\n",
              "    .dataframe thead th {\n",
              "        text-align: right;\n",
              "    }\n",
              "</style>\n",
              "<table border=\"1\" class=\"dataframe\">\n",
              "  <thead>\n",
              "    <tr style=\"text-align: right;\">\n",
              "      <th></th>\n",
              "      <th>longitude</th>\n",
              "      <th>latitude</th>\n",
              "      <th>station_code</th>\n",
              "      <th>datetime</th>\n",
              "      <th>o3</th>\n",
              "      <th>temp</th>\n",
              "    </tr>\n",
              "  </thead>\n",
              "  <tbody>\n",
              "    <tr>\n",
              "      <th>477654</th>\n",
              "      <td>7.567796</td>\n",
              "      <td>47.819182</td>\n",
              "      <td>DEBW073</td>\n",
              "      <td>1994-01-01 00:00:00+00:00</td>\n",
              "      <td>32.58060</td>\n",
              "      <td>NaN</td>\n",
              "    </tr>\n",
              "    <tr>\n",
              "      <th>477655</th>\n",
              "      <td>7.567796</td>\n",
              "      <td>47.819182</td>\n",
              "      <td>DEBW073</td>\n",
              "      <td>1994-01-01 01:00:00+00:00</td>\n",
              "      <td>31.57812</td>\n",
              "      <td>NaN</td>\n",
              "    </tr>\n",
              "    <tr>\n",
              "      <th>477656</th>\n",
              "      <td>7.567796</td>\n",
              "      <td>47.819182</td>\n",
              "      <td>DEBW073</td>\n",
              "      <td>1994-01-01 02:00:00+00:00</td>\n",
              "      <td>26.56572</td>\n",
              "      <td>NaN</td>\n",
              "    </tr>\n",
              "    <tr>\n",
              "      <th>477657</th>\n",
              "      <td>7.567796</td>\n",
              "      <td>47.819182</td>\n",
              "      <td>DEBW073</td>\n",
              "      <td>1994-01-01 03:00:00+00:00</td>\n",
              "      <td>27.06696</td>\n",
              "      <td>NaN</td>\n",
              "    </tr>\n",
              "    <tr>\n",
              "      <th>477658</th>\n",
              "      <td>7.567796</td>\n",
              "      <td>47.819182</td>\n",
              "      <td>DEBW073</td>\n",
              "      <td>1994-01-01 04:00:00+00:00</td>\n",
              "      <td>32.07936</td>\n",
              "      <td>NaN</td>\n",
              "    </tr>\n",
              "  </tbody>\n",
              "</table>\n",
              "</div>"
            ],
            "text/plain": [
              "        longitude   latitude station_code                  datetime        o3  \\\n",
              "477654   7.567796  47.819182      DEBW073 1994-01-01 00:00:00+00:00  32.58060   \n",
              "477655   7.567796  47.819182      DEBW073 1994-01-01 01:00:00+00:00  31.57812   \n",
              "477656   7.567796  47.819182      DEBW073 1994-01-01 02:00:00+00:00  26.56572   \n",
              "477657   7.567796  47.819182      DEBW073 1994-01-01 03:00:00+00:00  27.06696   \n",
              "477658   7.567796  47.819182      DEBW073 1994-01-01 04:00:00+00:00  32.07936   \n",
              "\n",
              "        temp  \n",
              "477654   NaN  \n",
              "477655   NaN  \n",
              "477656   NaN  \n",
              "477657   NaN  \n",
              "477658   NaN  "
            ]
          },
          "execution_count": 28,
          "metadata": {},
          "output_type": "execute_result"
        }
      ],
      "source": [
        "# Load existing timeseries IDs from json to skip calls to TOAR\n",
        "existing_timeseries = load_existing_timeseries_ids()\n",
        "\n",
        "timeseries_data = fetch_timeseries_data(station_codes, existing_timeseries,variable_columns)\n",
        "print(f\"\\t Number of time series meta data fetched : {len(timeseries_data)}\")\n",
        "\n",
        "# save existing timeseries IDs as json to reduce calls to TOAR in future\n",
        "save_timeseries_ids(timeseries_data)\n",
        "\n",
        "dataframes = download_csv_data(timeseries_data,variable_columns)\n",
        "print(f\"\\t Total dataFrames processed : {len(dataframes)} and shape of first dataframe {dataframes.shape}.\")\n",
        "\n",
        "dataframes.head()\n"
      ]
    },
    {
      "cell_type": "markdown",
      "id": "qqmumS-_pope",
      "metadata": {
        "id": "qqmumS-_pope"
      },
      "source": [
        "#### Data handling (observational gaps)"
      ]
    },
    {
      "cell_type": "markdown",
      "id": "s7xwW3dEKftO",
      "metadata": {
        "id": "s7xwW3dEKftO"
      },
      "source": [
        "##### Filling up upto 6 NAs"
      ]
    },
    {
      "cell_type": "code",
      "execution_count": 29,
      "id": "sdTokb2GKeDH",
      "metadata": {
        "colab": {
          "base_uri": "https://localhost:8080/",
          "height": 366
        },
        "id": "sdTokb2GKeDH",
        "outputId": "6b1391b2-ff69-4611-c7dd-5818c974e9d3"
      },
      "outputs": [
        {
          "data": {
            "application/vnd.microsoft.datawrangler.viewer.v0+json": {
              "columns": [
                {
                  "name": "index",
                  "rawType": "object",
                  "type": "string"
                },
                {
                  "name": "0",
                  "rawType": "int64",
                  "type": "integer"
                }
              ],
              "ref": "40009944-dffe-4fe9-8801-d086c126fdf9",
              "rows": [
                [
                  "longitude",
                  "0"
                ],
                [
                  "latitude",
                  "0"
                ],
                [
                  "station_code",
                  "0"
                ],
                [
                  "datetime",
                  "0"
                ],
                [
                  "o3",
                  "133902"
                ],
                [
                  "temp",
                  "288933"
                ]
              ],
              "shape": {
                "columns": 1,
                "rows": 6
              }
            },
            "text/plain": [
              "longitude            0\n",
              "latitude             0\n",
              "station_code         0\n",
              "datetime             0\n",
              "o3              133902\n",
              "temp            288933\n",
              "dtype: int64"
            ]
          },
          "execution_count": 29,
          "metadata": {},
          "output_type": "execute_result"
        }
      ],
      "source": [
        "dataframes[variable_columns] = dataframes.groupby(group_columns)[variable_columns].transform(fill_six_nans)\n",
        "dataframes.isna().sum()"
      ]
    },
    {
      "cell_type": "code",
      "execution_count": 30,
      "id": "cdbf0632",
      "metadata": {},
      "outputs": [],
      "source": [
        "dataframes = dataframes.drop_duplicates(subset=['datetime'], keep='last')"
      ]
    },
    {
      "cell_type": "markdown",
      "id": "3Y9nlWqmJQe2",
      "metadata": {
        "id": "3Y9nlWqmJQe2"
      },
      "source": [
        "##### After dropping NAs"
      ]
    },
    {
      "cell_type": "code",
      "execution_count": 31,
      "id": "U5S7KBXSJOb4",
      "metadata": {
        "colab": {
          "base_uri": "https://localhost:8080/",
          "height": 366
        },
        "id": "U5S7KBXSJOb4",
        "outputId": "8ce3d5f1-9d18-4ab3-f49f-a15841f246fd"
      },
      "outputs": [
        {
          "data": {
            "application/vnd.microsoft.datawrangler.viewer.v0+json": {
              "columns": [
                {
                  "name": "index",
                  "rawType": "object",
                  "type": "string"
                },
                {
                  "name": "0",
                  "rawType": "int64",
                  "type": "integer"
                }
              ],
              "ref": "3464f63b-87be-4006-86af-a02df662d795",
              "rows": [
                [
                  "longitude",
                  "0"
                ],
                [
                  "latitude",
                  "0"
                ],
                [
                  "station_code",
                  "0"
                ],
                [
                  "datetime",
                  "0"
                ],
                [
                  "o3",
                  "0"
                ],
                [
                  "temp",
                  "0"
                ]
              ],
              "shape": {
                "columns": 1,
                "rows": 6
              }
            },
            "text/plain": [
              "longitude       0\n",
              "latitude        0\n",
              "station_code    0\n",
              "datetime        0\n",
              "o3              0\n",
              "temp            0\n",
              "dtype: int64"
            ]
          },
          "execution_count": 31,
          "metadata": {},
          "output_type": "execute_result"
        }
      ],
      "source": [
        "dataframes = dataframes.dropna()\n",
        "dataframes.isna().sum()"
      ]
    },
    {
      "cell_type": "markdown",
      "id": "qd4YM9V0Smu8",
      "metadata": {
        "id": "qd4YM9V0Smu8"
      },
      "source": [
        "#### Statistical Sanity Check"
      ]
    },
    {
      "cell_type": "code",
      "execution_count": 32,
      "id": "61S7XC7zNU1y",
      "metadata": {
        "colab": {
          "base_uri": "https://localhost:8080/",
          "height": 647
        },
        "id": "61S7XC7zNU1y",
        "outputId": "f5e2396b-1dba-4be0-9bef-02bbff2c6ba8"
      },
      "outputs": [
        {
          "data": {
            "application/vnd.microsoft.datawrangler.viewer.v0+json": {
              "columns": [
                {
                  "name": "station_code",
                  "rawType": "object",
                  "type": "string"
                },
                {
                  "name": "('temp', 'min')",
                  "rawType": "float64",
                  "type": "float"
                },
                {
                  "name": "('temp', 'max')",
                  "rawType": "float64",
                  "type": "float"
                },
                {
                  "name": "('temp', 'mean')",
                  "rawType": "float64",
                  "type": "float"
                },
                {
                  "name": "('temp', 'sum')",
                  "rawType": "float64",
                  "type": "float"
                },
                {
                  "name": "('temp', 'std')",
                  "rawType": "float64",
                  "type": "float"
                },
                {
                  "name": "('temp', 'var')",
                  "rawType": "float64",
                  "type": "float"
                },
                {
                  "name": "('temp', 'median')",
                  "rawType": "float64",
                  "type": "float"
                },
                {
                  "name": "('temp', 'prod')",
                  "rawType": "float64",
                  "type": "float"
                },
                {
                  "name": "('temp', 'nunique')",
                  "rawType": "int64",
                  "type": "integer"
                },
                {
                  "name": "('temp', '5th_percentile')",
                  "rawType": "float64",
                  "type": "float"
                },
                {
                  "name": "('temp', '10th_percentile')",
                  "rawType": "float64",
                  "type": "float"
                },
                {
                  "name": "('temp', '25th_percentile')",
                  "rawType": "float64",
                  "type": "float"
                },
                {
                  "name": "('temp', '50th_percentile')",
                  "rawType": "float64",
                  "type": "float"
                },
                {
                  "name": "('temp', '75th_percentile')",
                  "rawType": "float64",
                  "type": "float"
                },
                {
                  "name": "('o3', 'min')",
                  "rawType": "float64",
                  "type": "float"
                },
                {
                  "name": "('o3', 'max')",
                  "rawType": "float64",
                  "type": "float"
                },
                {
                  "name": "('o3', 'mean')",
                  "rawType": "float64",
                  "type": "float"
                },
                {
                  "name": "('o3', 'sum')",
                  "rawType": "float64",
                  "type": "float"
                },
                {
                  "name": "('o3', 'std')",
                  "rawType": "float64",
                  "type": "float"
                },
                {
                  "name": "('o3', 'var')",
                  "rawType": "float64",
                  "type": "float"
                },
                {
                  "name": "('o3', 'median')",
                  "rawType": "float64",
                  "type": "float"
                },
                {
                  "name": "('o3', 'prod')",
                  "rawType": "float64",
                  "type": "float"
                },
                {
                  "name": "('o3', 'nunique')",
                  "rawType": "int64",
                  "type": "integer"
                },
                {
                  "name": "('o3', '5th_percentile')",
                  "rawType": "float64",
                  "type": "float"
                },
                {
                  "name": "('o3', '10th_percentile')",
                  "rawType": "float64",
                  "type": "float"
                },
                {
                  "name": "('o3', '25th_percentile')",
                  "rawType": "float64",
                  "type": "float"
                },
                {
                  "name": "('o3', '50th_percentile')",
                  "rawType": "float64",
                  "type": "float"
                },
                {
                  "name": "('o3', '75th_percentile')",
                  "rawType": "float64",
                  "type": "float"
                }
              ],
              "ref": "bea875b1-ef61-413b-a2f1-939bcd6ddc74",
              "rows": [
                [
                  "DEHE020",
                  "0.0",
                  "0.0",
                  "0.0",
                  "0.0",
                  "0.0",
                  "0.0",
                  "0.0",
                  "0.0",
                  "1",
                  "0.0",
                  "0.0",
                  "0.0",
                  "0.0",
                  "0.0",
                  "10.27542",
                  "19.54836",
                  "15.62198",
                  "93.73188",
                  "3.6787965639214133",
                  "13.533544158719996",
                  "16.290300000000002",
                  "12489216.643187474",
                  "6",
                  "10.90197",
                  "11.52852",
                  "13.220205",
                  "16.290300000000002",
                  "18.42057"
                ],
                [
                  "DENW094",
                  "-17.35",
                  "39.126",
                  "10.656713023676604",
                  "2347737.8193940977",
                  "7.321421223636205",
                  "53.603208733910655",
                  "10.45",
                  null,
                  "50706",
                  "-0.75",
                  "1.31",
                  "5.3289156250000005",
                  "10.45",
                  "15.65",
                  "-1.38267054",
                  "132.07674",
                  "24.58605046476504",
                  "5416454.433690527",
                  "14.485994515096596",
                  "209.84403709140867",
                  "24.553269908025",
                  "0.0",
                  "130932",
                  "1.3784100000000001",
                  "4.76178",
                  "14.5704515775",
                  "24.553269908025",
                  "32.834893149375"
                ]
              ],
              "shape": {
                "columns": 28,
                "rows": 2
              }
            },
            "text/html": [
              "<div>\n",
              "<style scoped>\n",
              "    .dataframe tbody tr th:only-of-type {\n",
              "        vertical-align: middle;\n",
              "    }\n",
              "\n",
              "    .dataframe tbody tr th {\n",
              "        vertical-align: top;\n",
              "    }\n",
              "\n",
              "    .dataframe thead tr th {\n",
              "        text-align: left;\n",
              "    }\n",
              "\n",
              "    .dataframe thead tr:last-of-type th {\n",
              "        text-align: right;\n",
              "    }\n",
              "</style>\n",
              "<table border=\"1\" class=\"dataframe\">\n",
              "  <thead>\n",
              "    <tr>\n",
              "      <th></th>\n",
              "      <th colspan=\"10\" halign=\"left\">temp</th>\n",
              "      <th>...</th>\n",
              "      <th colspan=\"10\" halign=\"left\">o3</th>\n",
              "    </tr>\n",
              "    <tr>\n",
              "      <th></th>\n",
              "      <th>min</th>\n",
              "      <th>max</th>\n",
              "      <th>mean</th>\n",
              "      <th>sum</th>\n",
              "      <th>std</th>\n",
              "      <th>var</th>\n",
              "      <th>median</th>\n",
              "      <th>prod</th>\n",
              "      <th>nunique</th>\n",
              "      <th>5th_percentile</th>\n",
              "      <th>...</th>\n",
              "      <th>std</th>\n",
              "      <th>var</th>\n",
              "      <th>median</th>\n",
              "      <th>prod</th>\n",
              "      <th>nunique</th>\n",
              "      <th>5th_percentile</th>\n",
              "      <th>10th_percentile</th>\n",
              "      <th>25th_percentile</th>\n",
              "      <th>50th_percentile</th>\n",
              "      <th>75th_percentile</th>\n",
              "    </tr>\n",
              "    <tr>\n",
              "      <th>station_code</th>\n",
              "      <th></th>\n",
              "      <th></th>\n",
              "      <th></th>\n",
              "      <th></th>\n",
              "      <th></th>\n",
              "      <th></th>\n",
              "      <th></th>\n",
              "      <th></th>\n",
              "      <th></th>\n",
              "      <th></th>\n",
              "      <th></th>\n",
              "      <th></th>\n",
              "      <th></th>\n",
              "      <th></th>\n",
              "      <th></th>\n",
              "      <th></th>\n",
              "      <th></th>\n",
              "      <th></th>\n",
              "      <th></th>\n",
              "      <th></th>\n",
              "      <th></th>\n",
              "    </tr>\n",
              "  </thead>\n",
              "  <tbody>\n",
              "    <tr>\n",
              "      <th>DEHE020</th>\n",
              "      <td>0.00</td>\n",
              "      <td>0.000</td>\n",
              "      <td>0.000000</td>\n",
              "      <td>0.000000e+00</td>\n",
              "      <td>0.000000</td>\n",
              "      <td>0.000000</td>\n",
              "      <td>0.00</td>\n",
              "      <td>0.0</td>\n",
              "      <td>1</td>\n",
              "      <td>0.00</td>\n",
              "      <td>...</td>\n",
              "      <td>3.678797</td>\n",
              "      <td>13.533544</td>\n",
              "      <td>16.29030</td>\n",
              "      <td>1.248922e+07</td>\n",
              "      <td>6</td>\n",
              "      <td>10.90197</td>\n",
              "      <td>11.52852</td>\n",
              "      <td>13.220205</td>\n",
              "      <td>16.29030</td>\n",
              "      <td>18.420570</td>\n",
              "    </tr>\n",
              "    <tr>\n",
              "      <th>DENW094</th>\n",
              "      <td>-17.35</td>\n",
              "      <td>39.126</td>\n",
              "      <td>10.656713</td>\n",
              "      <td>2.347738e+06</td>\n",
              "      <td>7.321421</td>\n",
              "      <td>53.603209</td>\n",
              "      <td>10.45</td>\n",
              "      <td>NaN</td>\n",
              "      <td>50706</td>\n",
              "      <td>-0.75</td>\n",
              "      <td>...</td>\n",
              "      <td>14.485995</td>\n",
              "      <td>209.844037</td>\n",
              "      <td>24.55327</td>\n",
              "      <td>0.000000e+00</td>\n",
              "      <td>130932</td>\n",
              "      <td>1.37841</td>\n",
              "      <td>4.76178</td>\n",
              "      <td>14.570452</td>\n",
              "      <td>24.55327</td>\n",
              "      <td>32.834893</td>\n",
              "    </tr>\n",
              "  </tbody>\n",
              "</table>\n",
              "<p>2 rows × 28 columns</p>\n",
              "</div>"
            ],
            "text/plain": [
              "               temp                                                        \\\n",
              "                min     max       mean           sum       std        var   \n",
              "station_code                                                                \n",
              "DEHE020        0.00   0.000   0.000000  0.000000e+00  0.000000   0.000000   \n",
              "DENW094      -17.35  39.126  10.656713  2.347738e+06  7.321421  53.603209   \n",
              "\n",
              "                                                 ...         o3              \\\n",
              "             median prod nunique 5th_percentile  ...        std         var   \n",
              "station_code                                     ...                          \n",
              "DEHE020        0.00  0.0       1           0.00  ...   3.678797   13.533544   \n",
              "DENW094       10.45  NaN   50706          -0.75  ...  14.485995  209.844037   \n",
              "\n",
              "                                                                             \\\n",
              "                median          prod nunique 5th_percentile 10th_percentile   \n",
              "station_code                                                                  \n",
              "DEHE020       16.29030  1.248922e+07       6       10.90197        11.52852   \n",
              "DENW094       24.55327  0.000000e+00  130932        1.37841         4.76178   \n",
              "\n",
              "                                                              \n",
              "             25th_percentile 50th_percentile 75th_percentile  \n",
              "station_code                                                  \n",
              "DEHE020            13.220205        16.29030       18.420570  \n",
              "DENW094            14.570452        24.55327       32.834893  \n",
              "\n",
              "[2 rows x 28 columns]"
            ]
          },
          "metadata": {},
          "output_type": "display_data"
        },
        {
          "data": {
            "text/plain": [
              "'min'"
            ]
          },
          "metadata": {},
          "output_type": "display_data"
        },
        {
          "data": {
            "application/vnd.microsoft.datawrangler.viewer.v0+json": {
              "columns": [
                {
                  "name": "station_code",
                  "rawType": "object",
                  "type": "string"
                },
                {
                  "name": "temp",
                  "rawType": "float64",
                  "type": "float"
                },
                {
                  "name": "o3",
                  "rawType": "float64",
                  "type": "float"
                }
              ],
              "ref": "3a4164e9-94ba-4c08-8444-bed1cbfa94fe",
              "rows": [
                [
                  "DEHE020",
                  "0.0",
                  "10.27542"
                ],
                [
                  "DENW094",
                  "-17.35",
                  "-1.38267054"
                ]
              ],
              "shape": {
                "columns": 2,
                "rows": 2
              }
            },
            "text/html": [
              "<div>\n",
              "<style scoped>\n",
              "    .dataframe tbody tr th:only-of-type {\n",
              "        vertical-align: middle;\n",
              "    }\n",
              "\n",
              "    .dataframe tbody tr th {\n",
              "        vertical-align: top;\n",
              "    }\n",
              "\n",
              "    .dataframe thead th {\n",
              "        text-align: right;\n",
              "    }\n",
              "</style>\n",
              "<table border=\"1\" class=\"dataframe\">\n",
              "  <thead>\n",
              "    <tr style=\"text-align: right;\">\n",
              "      <th></th>\n",
              "      <th>temp</th>\n",
              "      <th>o3</th>\n",
              "    </tr>\n",
              "    <tr>\n",
              "      <th>station_code</th>\n",
              "      <th></th>\n",
              "      <th></th>\n",
              "    </tr>\n",
              "  </thead>\n",
              "  <tbody>\n",
              "    <tr>\n",
              "      <th>DEHE020</th>\n",
              "      <td>0.00</td>\n",
              "      <td>10.275420</td>\n",
              "    </tr>\n",
              "    <tr>\n",
              "      <th>DENW094</th>\n",
              "      <td>-17.35</td>\n",
              "      <td>-1.382671</td>\n",
              "    </tr>\n",
              "  </tbody>\n",
              "</table>\n",
              "</div>"
            ],
            "text/plain": [
              "               temp         o3\n",
              "station_code                  \n",
              "DEHE020        0.00  10.275420\n",
              "DENW094      -17.35  -1.382671"
            ]
          },
          "metadata": {},
          "output_type": "display_data"
        },
        {
          "data": {
            "text/plain": [
              "'max'"
            ]
          },
          "metadata": {},
          "output_type": "display_data"
        },
        {
          "data": {
            "application/vnd.microsoft.datawrangler.viewer.v0+json": {
              "columns": [
                {
                  "name": "station_code",
                  "rawType": "object",
                  "type": "string"
                },
                {
                  "name": "temp",
                  "rawType": "float64",
                  "type": "float"
                },
                {
                  "name": "o3",
                  "rawType": "float64",
                  "type": "float"
                }
              ],
              "ref": "7d19bee9-34de-4bd0-87e8-9ac6ae9c1452",
              "rows": [
                [
                  "DEHE020",
                  "0.0",
                  "19.54836"
                ],
                [
                  "DENW094",
                  "39.126",
                  "132.07674"
                ]
              ],
              "shape": {
                "columns": 2,
                "rows": 2
              }
            },
            "text/html": [
              "<div>\n",
              "<style scoped>\n",
              "    .dataframe tbody tr th:only-of-type {\n",
              "        vertical-align: middle;\n",
              "    }\n",
              "\n",
              "    .dataframe tbody tr th {\n",
              "        vertical-align: top;\n",
              "    }\n",
              "\n",
              "    .dataframe thead th {\n",
              "        text-align: right;\n",
              "    }\n",
              "</style>\n",
              "<table border=\"1\" class=\"dataframe\">\n",
              "  <thead>\n",
              "    <tr style=\"text-align: right;\">\n",
              "      <th></th>\n",
              "      <th>temp</th>\n",
              "      <th>o3</th>\n",
              "    </tr>\n",
              "    <tr>\n",
              "      <th>station_code</th>\n",
              "      <th></th>\n",
              "      <th></th>\n",
              "    </tr>\n",
              "  </thead>\n",
              "  <tbody>\n",
              "    <tr>\n",
              "      <th>DEHE020</th>\n",
              "      <td>0.000</td>\n",
              "      <td>19.54836</td>\n",
              "    </tr>\n",
              "    <tr>\n",
              "      <th>DENW094</th>\n",
              "      <td>39.126</td>\n",
              "      <td>132.07674</td>\n",
              "    </tr>\n",
              "  </tbody>\n",
              "</table>\n",
              "</div>"
            ],
            "text/plain": [
              "                temp         o3\n",
              "station_code                   \n",
              "DEHE020        0.000   19.54836\n",
              "DENW094       39.126  132.07674"
            ]
          },
          "metadata": {},
          "output_type": "display_data"
        },
        {
          "data": {
            "text/plain": [
              "'mean'"
            ]
          },
          "metadata": {},
          "output_type": "display_data"
        },
        {
          "data": {
            "application/vnd.microsoft.datawrangler.viewer.v0+json": {
              "columns": [
                {
                  "name": "station_code",
                  "rawType": "object",
                  "type": "string"
                },
                {
                  "name": "temp",
                  "rawType": "float64",
                  "type": "float"
                },
                {
                  "name": "o3",
                  "rawType": "float64",
                  "type": "float"
                }
              ],
              "ref": "fda398ac-3003-436e-a77a-0ee5689c0d6a",
              "rows": [
                [
                  "DEHE020",
                  "0.0",
                  "15.62198"
                ],
                [
                  "DENW094",
                  "10.656713023676604",
                  "24.58605046476504"
                ]
              ],
              "shape": {
                "columns": 2,
                "rows": 2
              }
            },
            "text/html": [
              "<div>\n",
              "<style scoped>\n",
              "    .dataframe tbody tr th:only-of-type {\n",
              "        vertical-align: middle;\n",
              "    }\n",
              "\n",
              "    .dataframe tbody tr th {\n",
              "        vertical-align: top;\n",
              "    }\n",
              "\n",
              "    .dataframe thead th {\n",
              "        text-align: right;\n",
              "    }\n",
              "</style>\n",
              "<table border=\"1\" class=\"dataframe\">\n",
              "  <thead>\n",
              "    <tr style=\"text-align: right;\">\n",
              "      <th></th>\n",
              "      <th>temp</th>\n",
              "      <th>o3</th>\n",
              "    </tr>\n",
              "    <tr>\n",
              "      <th>station_code</th>\n",
              "      <th></th>\n",
              "      <th></th>\n",
              "    </tr>\n",
              "  </thead>\n",
              "  <tbody>\n",
              "    <tr>\n",
              "      <th>DEHE020</th>\n",
              "      <td>0.000000</td>\n",
              "      <td>15.62198</td>\n",
              "    </tr>\n",
              "    <tr>\n",
              "      <th>DENW094</th>\n",
              "      <td>10.656713</td>\n",
              "      <td>24.58605</td>\n",
              "    </tr>\n",
              "  </tbody>\n",
              "</table>\n",
              "</div>"
            ],
            "text/plain": [
              "                   temp        o3\n",
              "station_code                     \n",
              "DEHE020        0.000000  15.62198\n",
              "DENW094       10.656713  24.58605"
            ]
          },
          "metadata": {},
          "output_type": "display_data"
        },
        {
          "data": {
            "text/plain": [
              "'std'"
            ]
          },
          "metadata": {},
          "output_type": "display_data"
        },
        {
          "data": {
            "application/vnd.microsoft.datawrangler.viewer.v0+json": {
              "columns": [
                {
                  "name": "station_code",
                  "rawType": "object",
                  "type": "string"
                },
                {
                  "name": "temp",
                  "rawType": "float64",
                  "type": "float"
                },
                {
                  "name": "o3",
                  "rawType": "float64",
                  "type": "float"
                }
              ],
              "ref": "7f3bba0a-92a0-45d4-8f87-ac096cc848e1",
              "rows": [
                [
                  "DEHE020",
                  "0.0",
                  "3.6787965639214133"
                ],
                [
                  "DENW094",
                  "7.321421223636205",
                  "14.485994515096596"
                ]
              ],
              "shape": {
                "columns": 2,
                "rows": 2
              }
            },
            "text/html": [
              "<div>\n",
              "<style scoped>\n",
              "    .dataframe tbody tr th:only-of-type {\n",
              "        vertical-align: middle;\n",
              "    }\n",
              "\n",
              "    .dataframe tbody tr th {\n",
              "        vertical-align: top;\n",
              "    }\n",
              "\n",
              "    .dataframe thead th {\n",
              "        text-align: right;\n",
              "    }\n",
              "</style>\n",
              "<table border=\"1\" class=\"dataframe\">\n",
              "  <thead>\n",
              "    <tr style=\"text-align: right;\">\n",
              "      <th></th>\n",
              "      <th>temp</th>\n",
              "      <th>o3</th>\n",
              "    </tr>\n",
              "    <tr>\n",
              "      <th>station_code</th>\n",
              "      <th></th>\n",
              "      <th></th>\n",
              "    </tr>\n",
              "  </thead>\n",
              "  <tbody>\n",
              "    <tr>\n",
              "      <th>DEHE020</th>\n",
              "      <td>0.000000</td>\n",
              "      <td>3.678797</td>\n",
              "    </tr>\n",
              "    <tr>\n",
              "      <th>DENW094</th>\n",
              "      <td>7.321421</td>\n",
              "      <td>14.485995</td>\n",
              "    </tr>\n",
              "  </tbody>\n",
              "</table>\n",
              "</div>"
            ],
            "text/plain": [
              "                  temp         o3\n",
              "station_code                     \n",
              "DEHE020       0.000000   3.678797\n",
              "DENW094       7.321421  14.485995"
            ]
          },
          "metadata": {},
          "output_type": "display_data"
        }
      ],
      "source": [
        "stats = ['min', 'max', 'mean', 'sum', 'std', 'var', 'median','prod','nunique',\n",
        "    ('5th_percentile', lambda x: x.quantile(0.05)),\n",
        "    ('10th_percentile', lambda x: x.quantile(0.10)),\n",
        "    ('25th_percentile', lambda x: x.quantile(0.25)),\n",
        "    ('50th_percentile', lambda x: x.quantile(0.50)), #(median)\n",
        "    ('75th_percentile', lambda x: x.quantile(0.75))]\n",
        "agg_dict = {col: stats for col in variable_columns}\n",
        "grouped = dataframes.groupby('station_code').agg(agg_dict)\n",
        "display(grouped)\n",
        "\n",
        "for agg_func in ['min', 'max', 'mean', 'std']:\n",
        "    display(agg_func)\n",
        "    agg_view = grouped.xs(agg_func, axis=1, level=1)\n",
        "    display(agg_view)"
      ]
    },
    {
      "cell_type": "code",
      "execution_count": 33,
      "id": "bad453c7",
      "metadata": {
        "id": "bad453c7"
      },
      "outputs": [],
      "source": [
        "dataframes.to_csv(os.path.join(TIMESERIES_DATA_DIR, \"raw_data.csv\"), index=False)"
      ]
    },
    {
      "cell_type": "markdown",
      "id": "hkSc-_CdSxyZ",
      "metadata": {
        "id": "hkSc-_CdSxyZ"
      },
      "source": [
        "#### Log Scaling after checking for skewdness\n",
        "\n",
        "*ToDo:* This cell should be transfered to the data preparation part of the ML models.\n",
        "\n",
        "\n"
      ]
    },
    {
      "cell_type": "code",
      "execution_count": 34,
      "id": "yNPu71utSxS2",
      "metadata": {
        "id": "yNPu71utSxS2"
      },
      "outputs": [],
      "source": [
        "import numpy as np\n",
        "from scipy.stats import skew\n",
        "\n",
        "def log_transform_if_skewed(df, columns, threshold=1.0):\n",
        "    \"\"\"\n",
        "    Log-transform the specified columns of a DataFrame based on their skewdness.\n",
        "\n",
        "    Args:\n",
        "        df (pd.DataFrame): The input DataFrame.\n",
        "        columns (list): List of column names that need to be checked for skewdness.\n",
        "\n",
        "    Returns:\n",
        "        pd.DataFrame: DataFrame with normalized columns.\n",
        "    \"\"\"\n",
        "    df_transformed = df.copy()\n",
        "\n",
        "    for col in columns:\n",
        "        # s = df[col].dropna()\n",
        "        s = df[col]\n",
        "        current_skewness = skew(s)\n",
        "\n",
        "        print(f\"[{col}] Skewness: {current_skewness:.2f}\")\n",
        "\n",
        "        if abs(current_skewness) > threshold:\n",
        "            # To avoid log(0) or log(negative values).\n",
        "            if (s <= 0).any():\n",
        "                shift = abs(s.min()) + 1e-6\n",
        "                print(f\"Applying log(x + {shift:.6f}) to {col}\")\n",
        "                df_transformed[col] = np.log(df[col] + shift)\n",
        "            else:\n",
        "                print(f\"Applying log(x) to {col}\")\n",
        "                df_transformed[col] = np.log(df[col])\n",
        "        else:\n",
        "            print(f\"No transformation applied to {col}.\")\n",
        "\n",
        "    return df_transformed"
      ]
    },
    {
      "cell_type": "code",
      "execution_count": 35,
      "id": "MeI64XXFXED8",
      "metadata": {
        "colab": {
          "base_uri": "https://localhost:8080/",
          "height": 379
        },
        "id": "MeI64XXFXED8",
        "outputId": "35d8be00-8882-49ee-9ebc-f8b6845b919a"
      },
      "outputs": [
        {
          "name": "stdout",
          "output_type": "stream",
          "text": [
            "[temp] Skewness: 0.17\n",
            "No transformation applied to temp.\n",
            "[o3] Skewness: 0.62\n",
            "No transformation applied to o3.\n"
          ]
        },
        {
          "data": {
            "application/vnd.microsoft.datawrangler.viewer.v0+json": {
              "columns": [
                {
                  "name": "index",
                  "rawType": "int64",
                  "type": "integer"
                },
                {
                  "name": "longitude",
                  "rawType": "float64",
                  "type": "float"
                },
                {
                  "name": "latitude",
                  "rawType": "float64",
                  "type": "float"
                },
                {
                  "name": "station_code",
                  "rawType": "object",
                  "type": "string"
                },
                {
                  "name": "datetime",
                  "rawType": "datetime64[ns, UTC]",
                  "type": "unknown"
                },
                {
                  "name": "o3",
                  "rawType": "float64",
                  "type": "float"
                },
                {
                  "name": "temp",
                  "rawType": "float64",
                  "type": "float"
                }
              ],
              "ref": "e2646b0f-6938-40c2-9ea7-7213aaa5d3bd",
              "rows": [
                [
                  "1134990",
                  "8.500619",
                  "50.567185",
                  "DEHE020",
                  "1992-03-12 05:00:00+00:00",
                  "14.53596",
                  "0.0"
                ],
                [
                  "1134991",
                  "8.500619",
                  "50.567185",
                  "DEHE020",
                  "1992-03-12 06:00:00+00:00",
                  "18.04464",
                  "0.0"
                ],
                [
                  "1134992",
                  "8.500619",
                  "50.567185",
                  "DEHE020",
                  "1992-03-12 07:00:00+00:00",
                  "19.54836",
                  "0.0"
                ],
                [
                  "1134993",
                  "8.500619",
                  "50.567185",
                  "DEHE020",
                  "1992-03-12 08:00:00+00:00",
                  "10.27542",
                  "0.0"
                ],
                [
                  "1134994",
                  "8.500619",
                  "50.567185",
                  "DEHE020",
                  "1992-03-12 09:00:00+00:00",
                  "12.78162",
                  "0.0"
                ]
              ],
              "shape": {
                "columns": 6,
                "rows": 5
              }
            },
            "text/html": [
              "<div>\n",
              "<style scoped>\n",
              "    .dataframe tbody tr th:only-of-type {\n",
              "        vertical-align: middle;\n",
              "    }\n",
              "\n",
              "    .dataframe tbody tr th {\n",
              "        vertical-align: top;\n",
              "    }\n",
              "\n",
              "    .dataframe thead th {\n",
              "        text-align: right;\n",
              "    }\n",
              "</style>\n",
              "<table border=\"1\" class=\"dataframe\">\n",
              "  <thead>\n",
              "    <tr style=\"text-align: right;\">\n",
              "      <th></th>\n",
              "      <th>longitude</th>\n",
              "      <th>latitude</th>\n",
              "      <th>station_code</th>\n",
              "      <th>datetime</th>\n",
              "      <th>o3</th>\n",
              "      <th>temp</th>\n",
              "    </tr>\n",
              "  </thead>\n",
              "  <tbody>\n",
              "    <tr>\n",
              "      <th>1134990</th>\n",
              "      <td>8.500619</td>\n",
              "      <td>50.567185</td>\n",
              "      <td>DEHE020</td>\n",
              "      <td>1992-03-12 05:00:00+00:00</td>\n",
              "      <td>14.53596</td>\n",
              "      <td>0.0</td>\n",
              "    </tr>\n",
              "    <tr>\n",
              "      <th>1134991</th>\n",
              "      <td>8.500619</td>\n",
              "      <td>50.567185</td>\n",
              "      <td>DEHE020</td>\n",
              "      <td>1992-03-12 06:00:00+00:00</td>\n",
              "      <td>18.04464</td>\n",
              "      <td>0.0</td>\n",
              "    </tr>\n",
              "    <tr>\n",
              "      <th>1134992</th>\n",
              "      <td>8.500619</td>\n",
              "      <td>50.567185</td>\n",
              "      <td>DEHE020</td>\n",
              "      <td>1992-03-12 07:00:00+00:00</td>\n",
              "      <td>19.54836</td>\n",
              "      <td>0.0</td>\n",
              "    </tr>\n",
              "    <tr>\n",
              "      <th>1134993</th>\n",
              "      <td>8.500619</td>\n",
              "      <td>50.567185</td>\n",
              "      <td>DEHE020</td>\n",
              "      <td>1992-03-12 08:00:00+00:00</td>\n",
              "      <td>10.27542</td>\n",
              "      <td>0.0</td>\n",
              "    </tr>\n",
              "    <tr>\n",
              "      <th>1134994</th>\n",
              "      <td>8.500619</td>\n",
              "      <td>50.567185</td>\n",
              "      <td>DEHE020</td>\n",
              "      <td>1992-03-12 09:00:00+00:00</td>\n",
              "      <td>12.78162</td>\n",
              "      <td>0.0</td>\n",
              "    </tr>\n",
              "  </tbody>\n",
              "</table>\n",
              "</div>"
            ],
            "text/plain": [
              "         longitude   latitude station_code                  datetime  \\\n",
              "1134990   8.500619  50.567185      DEHE020 1992-03-12 05:00:00+00:00   \n",
              "1134991   8.500619  50.567185      DEHE020 1992-03-12 06:00:00+00:00   \n",
              "1134992   8.500619  50.567185      DEHE020 1992-03-12 07:00:00+00:00   \n",
              "1134993   8.500619  50.567185      DEHE020 1992-03-12 08:00:00+00:00   \n",
              "1134994   8.500619  50.567185      DEHE020 1992-03-12 09:00:00+00:00   \n",
              "\n",
              "               o3  temp  \n",
              "1134990  14.53596   0.0  \n",
              "1134991  18.04464   0.0  \n",
              "1134992  19.54836   0.0  \n",
              "1134993  10.27542   0.0  \n",
              "1134994  12.78162   0.0  "
            ]
          },
          "execution_count": 35,
          "metadata": {},
          "output_type": "execute_result"
        }
      ],
      "source": [
        "dataframe_= log_transform_if_skewed(dataframes, variable_columns, threshold=1.0)\n",
        "dataframe_.head()"
      ]
    },
    {
      "cell_type": "markdown",
      "id": "ojsWf0KrRyjr",
      "metadata": {
        "id": "ojsWf0KrRyjr"
      },
      "source": [
        "#### Normalize the data"
      ]
    },
    {
      "cell_type": "markdown",
      "id": "z7XAF2WzcI5G",
      "metadata": {
        "id": "z7XAF2WzcI5G"
      },
      "source": [
        "😈 Task 8: Why do we need both log transformation and Z-score normalization?"
      ]
    },
    {
      "cell_type": "code",
      "execution_count": 36,
      "id": "1d2c0b47",
      "metadata": {
        "id": "1d2c0b47"
      },
      "outputs": [],
      "source": [
        "def standard_scaler(df, columns):\n",
        "    \"\"\"\n",
        "    Standardize the specified columns of a DataFrame by subtracting the mean\n",
        "    and dividing by the standard deviation (Z-score normalization).\n",
        "\n",
        "    Args:\n",
        "        df (pd.DataFrame): The input DataFrame.\n",
        "        columns (list): List of column names to be normalized.\n",
        "\n",
        "    Returns:\n",
        "        pd.DataFrame: DataFrame with normalized columns.\n",
        "    \"\"\"\n",
        "    df_scaled = df.copy()\n",
        "    for col in columns:\n",
        "        mean = df_scaled[col].mean()\n",
        "        std = df_scaled[col].std()\n",
        "        df_scaled[col] = (df_scaled[col] - mean) / std\n",
        "    return df_scaled"
      ]
    },
    {
      "cell_type": "code",
      "execution_count": 37,
      "id": "6kGKgXpsRzgk",
      "metadata": {
        "colab": {
          "base_uri": "https://localhost:8080/",
          "height": 206
        },
        "id": "6kGKgXpsRzgk",
        "outputId": "6c98c637-07d8-4f7f-cf4d-772ff4c21ce5"
      },
      "outputs": [
        {
          "data": {
            "application/vnd.microsoft.datawrangler.viewer.v0+json": {
              "columns": [
                {
                  "name": "index",
                  "rawType": "int64",
                  "type": "integer"
                },
                {
                  "name": "longitude",
                  "rawType": "float64",
                  "type": "float"
                },
                {
                  "name": "latitude",
                  "rawType": "float64",
                  "type": "float"
                },
                {
                  "name": "station_code",
                  "rawType": "object",
                  "type": "string"
                },
                {
                  "name": "datetime",
                  "rawType": "datetime64[ns, UTC]",
                  "type": "unknown"
                },
                {
                  "name": "o3",
                  "rawType": "float64",
                  "type": "float"
                },
                {
                  "name": "temp",
                  "rawType": "float64",
                  "type": "float"
                }
              ],
              "ref": "bb425b54-9595-4e84-94b7-236e765e61ad",
              "rows": [
                [
                  "1134990",
                  "8.500619",
                  "50.567185",
                  "DEHE020",
                  "1992-03-12 05:00:00+00:00",
                  "-0.6937682752734114",
                  "-1.4554906977322997"
                ],
                [
                  "1134991",
                  "8.500619",
                  "50.567185",
                  "DEHE020",
                  "1992-03-12 06:00:00+00:00",
                  "-0.45155453482191826",
                  "-1.4554906977322997"
                ],
                [
                  "1134992",
                  "8.500619",
                  "50.567185",
                  "DEHE020",
                  "1992-03-12 07:00:00+00:00",
                  "-0.3477486460569928",
                  "-1.4554906977322997"
                ],
                [
                  "1134993",
                  "8.500619",
                  "50.567185",
                  "DEHE020",
                  "1992-03-12 08:00:00+00:00",
                  "-0.9878849601073673",
                  "-1.4554906977322997"
                ],
                [
                  "1134994",
                  "8.500619",
                  "50.567185",
                  "DEHE020",
                  "1992-03-12 09:00:00+00:00",
                  "-0.814875145499158",
                  "-1.4554906977322997"
                ]
              ],
              "shape": {
                "columns": 6,
                "rows": 5
              }
            },
            "text/html": [
              "<div>\n",
              "<style scoped>\n",
              "    .dataframe tbody tr th:only-of-type {\n",
              "        vertical-align: middle;\n",
              "    }\n",
              "\n",
              "    .dataframe tbody tr th {\n",
              "        vertical-align: top;\n",
              "    }\n",
              "\n",
              "    .dataframe thead th {\n",
              "        text-align: right;\n",
              "    }\n",
              "</style>\n",
              "<table border=\"1\" class=\"dataframe\">\n",
              "  <thead>\n",
              "    <tr style=\"text-align: right;\">\n",
              "      <th></th>\n",
              "      <th>longitude</th>\n",
              "      <th>latitude</th>\n",
              "      <th>station_code</th>\n",
              "      <th>datetime</th>\n",
              "      <th>o3</th>\n",
              "      <th>temp</th>\n",
              "    </tr>\n",
              "  </thead>\n",
              "  <tbody>\n",
              "    <tr>\n",
              "      <th>1134990</th>\n",
              "      <td>8.500619</td>\n",
              "      <td>50.567185</td>\n",
              "      <td>DEHE020</td>\n",
              "      <td>1992-03-12 05:00:00+00:00</td>\n",
              "      <td>-0.693768</td>\n",
              "      <td>-1.455491</td>\n",
              "    </tr>\n",
              "    <tr>\n",
              "      <th>1134991</th>\n",
              "      <td>8.500619</td>\n",
              "      <td>50.567185</td>\n",
              "      <td>DEHE020</td>\n",
              "      <td>1992-03-12 06:00:00+00:00</td>\n",
              "      <td>-0.451555</td>\n",
              "      <td>-1.455491</td>\n",
              "    </tr>\n",
              "    <tr>\n",
              "      <th>1134992</th>\n",
              "      <td>8.500619</td>\n",
              "      <td>50.567185</td>\n",
              "      <td>DEHE020</td>\n",
              "      <td>1992-03-12 07:00:00+00:00</td>\n",
              "      <td>-0.347749</td>\n",
              "      <td>-1.455491</td>\n",
              "    </tr>\n",
              "    <tr>\n",
              "      <th>1134993</th>\n",
              "      <td>8.500619</td>\n",
              "      <td>50.567185</td>\n",
              "      <td>DEHE020</td>\n",
              "      <td>1992-03-12 08:00:00+00:00</td>\n",
              "      <td>-0.987885</td>\n",
              "      <td>-1.455491</td>\n",
              "    </tr>\n",
              "    <tr>\n",
              "      <th>1134994</th>\n",
              "      <td>8.500619</td>\n",
              "      <td>50.567185</td>\n",
              "      <td>DEHE020</td>\n",
              "      <td>1992-03-12 09:00:00+00:00</td>\n",
              "      <td>-0.814875</td>\n",
              "      <td>-1.455491</td>\n",
              "    </tr>\n",
              "  </tbody>\n",
              "</table>\n",
              "</div>"
            ],
            "text/plain": [
              "         longitude   latitude station_code                  datetime  \\\n",
              "1134990   8.500619  50.567185      DEHE020 1992-03-12 05:00:00+00:00   \n",
              "1134991   8.500619  50.567185      DEHE020 1992-03-12 06:00:00+00:00   \n",
              "1134992   8.500619  50.567185      DEHE020 1992-03-12 07:00:00+00:00   \n",
              "1134993   8.500619  50.567185      DEHE020 1992-03-12 08:00:00+00:00   \n",
              "1134994   8.500619  50.567185      DEHE020 1992-03-12 09:00:00+00:00   \n",
              "\n",
              "               o3      temp  \n",
              "1134990 -0.693768 -1.455491  \n",
              "1134991 -0.451555 -1.455491  \n",
              "1134992 -0.347749 -1.455491  \n",
              "1134993 -0.987885 -1.455491  \n",
              "1134994 -0.814875 -1.455491  "
            ]
          },
          "execution_count": 37,
          "metadata": {},
          "output_type": "execute_result"
        }
      ],
      "source": [
        "dataframes = standard_scaler(dataframe_, variable_columns)\n",
        "dataframes.head()"
      ]
    },
    {
      "cell_type": "markdown",
      "id": "-cc-ixdbc_QR",
      "metadata": {
        "id": "-cc-ixdbc_QR"
      },
      "source": [
        "##### Save the normalized dataframe for later use"
      ]
    },
    {
      "cell_type": "code",
      "execution_count": 38,
      "id": "Oi3PPzzJZ5Vf",
      "metadata": {
        "id": "Oi3PPzzJZ5Vf"
      },
      "outputs": [],
      "source": [
        "dataframes.to_csv(os.path.join(TIMESERIES_DATA_DIR, \"normalized_data.csv\"), index=False)"
      ]
    },
    {
      "cell_type": "markdown",
      "id": "ZBg-E2YQert8",
      "metadata": {
        "id": "ZBg-E2YQert8"
      },
      "source": [
        "##### If you want the normalized data directly, then you could just download from the drive."
      ]
    },
    {
      "cell_type": "code",
      "execution_count": 39,
      "id": "rZ4sHWj0c5ks",
      "metadata": {
        "colab": {
          "base_uri": "https://localhost:8080/",
          "height": 206
        },
        "id": "rZ4sHWj0c5ks",
        "outputId": "9e0df20d-c721-4648-a46b-5f95c96c6fa2"
      },
      "outputs": [
        {
          "data": {
            "application/vnd.microsoft.datawrangler.viewer.v0+json": {
              "columns": [
                {
                  "name": "index",
                  "rawType": "int64",
                  "type": "integer"
                },
                {
                  "name": "longitude",
                  "rawType": "float64",
                  "type": "float"
                },
                {
                  "name": "latitude",
                  "rawType": "float64",
                  "type": "float"
                },
                {
                  "name": "station_code",
                  "rawType": "object",
                  "type": "string"
                },
                {
                  "name": "datetime",
                  "rawType": "object",
                  "type": "string"
                },
                {
                  "name": "o3",
                  "rawType": "float64",
                  "type": "float"
                },
                {
                  "name": "temp",
                  "rawType": "float64",
                  "type": "float"
                }
              ],
              "ref": "1f599f75-7e4c-4a35-808a-d3c244d252ac",
              "rows": [
                [
                  "0",
                  "8.500619",
                  "50.567185",
                  "DEHE020",
                  "1992-03-12 05:00:00+00:00",
                  "-0.6937682752734114",
                  "-1.4554906977322997"
                ],
                [
                  "1",
                  "8.500619",
                  "50.567185",
                  "DEHE020",
                  "1992-03-12 06:00:00+00:00",
                  "-0.4515545348219182",
                  "-1.4554906977322997"
                ],
                [
                  "2",
                  "8.500619",
                  "50.567185",
                  "DEHE020",
                  "1992-03-12 07:00:00+00:00",
                  "-0.3477486460569928",
                  "-1.4554906977322997"
                ],
                [
                  "3",
                  "8.500619",
                  "50.567185",
                  "DEHE020",
                  "1992-03-12 08:00:00+00:00",
                  "-0.9878849601073671",
                  "-1.4554906977322997"
                ],
                [
                  "4",
                  "8.500619",
                  "50.567185",
                  "DEHE020",
                  "1992-03-12 09:00:00+00:00",
                  "-0.814875145499158",
                  "-1.4554906977322997"
                ]
              ],
              "shape": {
                "columns": 6,
                "rows": 5
              }
            },
            "text/html": [
              "<div>\n",
              "<style scoped>\n",
              "    .dataframe tbody tr th:only-of-type {\n",
              "        vertical-align: middle;\n",
              "    }\n",
              "\n",
              "    .dataframe tbody tr th {\n",
              "        vertical-align: top;\n",
              "    }\n",
              "\n",
              "    .dataframe thead th {\n",
              "        text-align: right;\n",
              "    }\n",
              "</style>\n",
              "<table border=\"1\" class=\"dataframe\">\n",
              "  <thead>\n",
              "    <tr style=\"text-align: right;\">\n",
              "      <th></th>\n",
              "      <th>longitude</th>\n",
              "      <th>latitude</th>\n",
              "      <th>station_code</th>\n",
              "      <th>datetime</th>\n",
              "      <th>o3</th>\n",
              "      <th>temp</th>\n",
              "    </tr>\n",
              "  </thead>\n",
              "  <tbody>\n",
              "    <tr>\n",
              "      <th>0</th>\n",
              "      <td>8.500619</td>\n",
              "      <td>50.567185</td>\n",
              "      <td>DEHE020</td>\n",
              "      <td>1992-03-12 05:00:00+00:00</td>\n",
              "      <td>-0.693768</td>\n",
              "      <td>-1.455491</td>\n",
              "    </tr>\n",
              "    <tr>\n",
              "      <th>1</th>\n",
              "      <td>8.500619</td>\n",
              "      <td>50.567185</td>\n",
              "      <td>DEHE020</td>\n",
              "      <td>1992-03-12 06:00:00+00:00</td>\n",
              "      <td>-0.451555</td>\n",
              "      <td>-1.455491</td>\n",
              "    </tr>\n",
              "    <tr>\n",
              "      <th>2</th>\n",
              "      <td>8.500619</td>\n",
              "      <td>50.567185</td>\n",
              "      <td>DEHE020</td>\n",
              "      <td>1992-03-12 07:00:00+00:00</td>\n",
              "      <td>-0.347749</td>\n",
              "      <td>-1.455491</td>\n",
              "    </tr>\n",
              "    <tr>\n",
              "      <th>3</th>\n",
              "      <td>8.500619</td>\n",
              "      <td>50.567185</td>\n",
              "      <td>DEHE020</td>\n",
              "      <td>1992-03-12 08:00:00+00:00</td>\n",
              "      <td>-0.987885</td>\n",
              "      <td>-1.455491</td>\n",
              "    </tr>\n",
              "    <tr>\n",
              "      <th>4</th>\n",
              "      <td>8.500619</td>\n",
              "      <td>50.567185</td>\n",
              "      <td>DEHE020</td>\n",
              "      <td>1992-03-12 09:00:00+00:00</td>\n",
              "      <td>-0.814875</td>\n",
              "      <td>-1.455491</td>\n",
              "    </tr>\n",
              "  </tbody>\n",
              "</table>\n",
              "</div>"
            ],
            "text/plain": [
              "   longitude   latitude station_code                   datetime        o3  \\\n",
              "0   8.500619  50.567185      DEHE020  1992-03-12 05:00:00+00:00 -0.693768   \n",
              "1   8.500619  50.567185      DEHE020  1992-03-12 06:00:00+00:00 -0.451555   \n",
              "2   8.500619  50.567185      DEHE020  1992-03-12 07:00:00+00:00 -0.347749   \n",
              "3   8.500619  50.567185      DEHE020  1992-03-12 08:00:00+00:00 -0.987885   \n",
              "4   8.500619  50.567185      DEHE020  1992-03-12 09:00:00+00:00 -0.814875   \n",
              "\n",
              "       temp  \n",
              "0 -1.455491  \n",
              "1 -1.455491  \n",
              "2 -1.455491  \n",
              "3 -1.455491  \n",
              "4 -1.455491  "
            ]
          },
          "execution_count": 39,
          "metadata": {},
          "output_type": "execute_result"
        }
      ],
      "source": [
        "import pandas as pd\n",
        "import os\n",
        "\n",
        "## Normalized data csv is also made available for the select stations in URL:\n",
        "# url = \"https://drive.google.com/uc?export=download&id=16Mjahl_vSznbXUFeD80xNbsz2eFmCeLG\"\n",
        "# dataframes = pd.read_csv(url)\n",
        "## Else if using local files you can load from the path as below:\n",
        "# e.g. r\"./content/timeseries_multivariate_data/normalized_data.csv\"\n",
        "dataframes = pd.read_csv(os.path.join(TIMESERIES_DATA_DIR, \"normalized_data.csv\"))\n",
        "dataframes.head()"
      ]
    },
    {
      "cell_type": "code",
      "execution_count": null,
      "id": "3tHSnChQeO-L",
      "metadata": {
        "id": "3tHSnChQeO-L"
      },
      "outputs": [],
      "source": []
    }
  ],
  "metadata": {
    "colab": {
      "collapsed_sections": [
        "2588a2f2",
        "7426db96"
      ],
      "include_colab_link": true,
      "provenance": []
    },
    "kernelspec": {
      "display_name": "mless",
      "language": "python",
      "name": "python3"
    },
    "language_info": {
      "codemirror_mode": {
        "name": "ipython",
        "version": 3
      },
      "file_extension": ".py",
      "mimetype": "text/x-python",
      "name": "python",
      "nbconvert_exporter": "python",
      "pygments_lexer": "ipython3",
      "version": "3.12.10"
    }
  },
  "nbformat": 4,
  "nbformat_minor": 5
}
