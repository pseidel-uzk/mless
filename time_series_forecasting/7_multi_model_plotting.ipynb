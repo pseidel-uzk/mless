{
 "cells": [
  {
   "cell_type": "markdown",
   "id": "65d9ee20",
   "metadata": {},
   "source": [
    "<a href=\"https://colab.research.google.com/github/maschu09/mless/blob/main/time_series_forecasting/7_multi_model_plotting.ipynb\" target=\"_parent\"><img src=\"https://colab.research.google.com/assets/colab-badge.svg\" alt=\"Open In Colab\"/></a>"
   ]
  },
  {
   "cell_type": "markdown",
   "id": "7d6c8376",
   "metadata": {},
   "source": [
    "### Check for causality\n",
    "\n",
    "😈 **Task 3:** Run a Granger test between `temp` and `o3`. Is there any directional causality?\n",
    "\n",
    "😈 **Question 3:** Why is Granger causality not the same as actual causality?\n"
   ]
  },
  {
   "cell_type": "code",
   "execution_count": null,
   "id": "7e492747",
   "metadata": {},
   "outputs": [],
   "source": [
    "from statsmodels.tsa.stattools import grangercausalitytests\n",
    "for col in [\"no2\", \"temp\", \"no\", \"press\"]:\n",
    "    print(f\"\\nTesting if {col} Granger-causes o3:\")\n",
    "    grangercausalitytests(dataframe[['o3', col]], maxlag=4)"
   ]
  }
 ],
 "metadata": {
  "kernelspec": {
   "display_name": "Python 3",
   "language": "python",
   "name": "python3"
  },
  "language_info": {
   "name": "python",
   "version": "3.12.10"
  }
 },
 "nbformat": 4,
 "nbformat_minor": 5
}
