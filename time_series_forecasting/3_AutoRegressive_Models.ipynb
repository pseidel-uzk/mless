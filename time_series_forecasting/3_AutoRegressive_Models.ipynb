{
 "cells": [
  {
   "cell_type": "markdown",
   "id": "7bde2663",
   "metadata": {},
   "source": [
    "<a href=\"https://colab.research.google.com/github/maschu09/mless/blob/main/time_series_forecasting/3_AutoRegressive_Models.ipynb\" target=\"_parent\"><img src=\"https://colab.research.google.com/assets/colab-badge.svg\" alt=\"Open In Colab\"/></a>"
   ]
  },
  {
   "cell_type": "markdown",
   "id": "jSe3Bjwx1Mv7",
   "metadata": {
    "id": "jSe3Bjwx1Mv7"
   },
   "source": [
    "## Load the raw data for autoregressive models\n",
    "\n",
    "In the previous notebook, we gained some insights on certain aspects of our data. In this notebook, we shall run the classical auto-regressive ARIMA model and see its performance."
   ]
  },
  {
   "cell_type": "code",
   "execution_count": 24,
   "id": "63c24b78",
   "metadata": {
    "colab": {
     "base_uri": "https://localhost:8080/",
     "height": 206
    },
    "executionInfo": {
     "elapsed": 9371,
     "status": "ok",
     "timestamp": 1749056373754,
     "user": {
      "displayName": "Sindhu Vasireddy",
      "userId": "12995924272851590760"
     },
     "user_tz": -120
    },
    "id": "63c24b78",
    "outputId": "ea501dfc-7916-4779-967c-bc0a227c79ea"
   },
   "outputs": [
    {
     "data": {
      "application/vnd.microsoft.datawrangler.viewer.v0+json": {
       "columns": [
        {
         "name": "index",
         "rawType": "int64",
         "type": "integer"
        },
        {
         "name": "longitude",
         "rawType": "float64",
         "type": "float"
        },
        {
         "name": "latitude",
         "rawType": "float64",
         "type": "float"
        },
        {
         "name": "station_code",
         "rawType": "object",
         "type": "string"
        },
        {
         "name": "datetime",
         "rawType": "object",
         "type": "string"
        },
        {
         "name": "o3",
         "rawType": "float64",
         "type": "float"
        },
        {
         "name": "temp",
         "rawType": "float64",
         "type": "float"
        }
       ],
       "ref": "1caa2bf2-5905-4bdc-916b-27ff08f2a20e",
       "rows": [
        [
         "0",
         "8.500619",
         "50.567185",
         "DEHE020",
         "1992-03-12 05:00:00+00:00",
         "-0.6937682752734114",
         "-1.4554906977322997"
        ],
        [
         "1",
         "8.500619",
         "50.567185",
         "DEHE020",
         "1992-03-12 06:00:00+00:00",
         "-0.4515545348219182",
         "-1.4554906977322997"
        ],
        [
         "2",
         "8.500619",
         "50.567185",
         "DEHE020",
         "1992-03-12 07:00:00+00:00",
         "-0.3477486460569928",
         "-1.4554906977322997"
        ],
        [
         "3",
         "8.500619",
         "50.567185",
         "DEHE020",
         "1992-03-12 08:00:00+00:00",
         "-0.9878849601073671",
         "-1.4554906977322997"
        ],
        [
         "4",
         "8.500619",
         "50.567185",
         "DEHE020",
         "1992-03-12 09:00:00+00:00",
         "-0.814875145499158",
         "-1.4554906977322997"
        ]
       ],
       "shape": {
        "columns": 6,
        "rows": 5
       }
      },
      "text/html": [
       "<div>\n",
       "<style scoped>\n",
       "    .dataframe tbody tr th:only-of-type {\n",
       "        vertical-align: middle;\n",
       "    }\n",
       "\n",
       "    .dataframe tbody tr th {\n",
       "        vertical-align: top;\n",
       "    }\n",
       "\n",
       "    .dataframe thead th {\n",
       "        text-align: right;\n",
       "    }\n",
       "</style>\n",
       "<table border=\"1\" class=\"dataframe\">\n",
       "  <thead>\n",
       "    <tr style=\"text-align: right;\">\n",
       "      <th></th>\n",
       "      <th>longitude</th>\n",
       "      <th>latitude</th>\n",
       "      <th>station_code</th>\n",
       "      <th>datetime</th>\n",
       "      <th>o3</th>\n",
       "      <th>temp</th>\n",
       "    </tr>\n",
       "  </thead>\n",
       "  <tbody>\n",
       "    <tr>\n",
       "      <th>0</th>\n",
       "      <td>8.500619</td>\n",
       "      <td>50.567185</td>\n",
       "      <td>DEHE020</td>\n",
       "      <td>1992-03-12 05:00:00+00:00</td>\n",
       "      <td>-0.693768</td>\n",
       "      <td>-1.455491</td>\n",
       "    </tr>\n",
       "    <tr>\n",
       "      <th>1</th>\n",
       "      <td>8.500619</td>\n",
       "      <td>50.567185</td>\n",
       "      <td>DEHE020</td>\n",
       "      <td>1992-03-12 06:00:00+00:00</td>\n",
       "      <td>-0.451555</td>\n",
       "      <td>-1.455491</td>\n",
       "    </tr>\n",
       "    <tr>\n",
       "      <th>2</th>\n",
       "      <td>8.500619</td>\n",
       "      <td>50.567185</td>\n",
       "      <td>DEHE020</td>\n",
       "      <td>1992-03-12 07:00:00+00:00</td>\n",
       "      <td>-0.347749</td>\n",
       "      <td>-1.455491</td>\n",
       "    </tr>\n",
       "    <tr>\n",
       "      <th>3</th>\n",
       "      <td>8.500619</td>\n",
       "      <td>50.567185</td>\n",
       "      <td>DEHE020</td>\n",
       "      <td>1992-03-12 08:00:00+00:00</td>\n",
       "      <td>-0.987885</td>\n",
       "      <td>-1.455491</td>\n",
       "    </tr>\n",
       "    <tr>\n",
       "      <th>4</th>\n",
       "      <td>8.500619</td>\n",
       "      <td>50.567185</td>\n",
       "      <td>DEHE020</td>\n",
       "      <td>1992-03-12 09:00:00+00:00</td>\n",
       "      <td>-0.814875</td>\n",
       "      <td>-1.455491</td>\n",
       "    </tr>\n",
       "  </tbody>\n",
       "</table>\n",
       "</div>"
      ],
      "text/plain": [
       "   longitude   latitude station_code                   datetime        o3  \\\n",
       "0   8.500619  50.567185      DEHE020  1992-03-12 05:00:00+00:00 -0.693768   \n",
       "1   8.500619  50.567185      DEHE020  1992-03-12 06:00:00+00:00 -0.451555   \n",
       "2   8.500619  50.567185      DEHE020  1992-03-12 07:00:00+00:00 -0.347749   \n",
       "3   8.500619  50.567185      DEHE020  1992-03-12 08:00:00+00:00 -0.987885   \n",
       "4   8.500619  50.567185      DEHE020  1992-03-12 09:00:00+00:00 -0.814875   \n",
       "\n",
       "       temp  \n",
       "0 -1.455491  \n",
       "1 -1.455491  \n",
       "2 -1.455491  \n",
       "3 -1.455491  \n",
       "4 -1.455491  "
      ]
     },
     "execution_count": 24,
     "metadata": {},
     "output_type": "execute_result"
    }
   ],
   "source": [
    "import pandas as pd\n",
    "import csv\n",
    "\n",
    "## Raw data csv is also made available for the select stations in URL:\n",
    "# url = \"https://drive.google.com/uc?export=download&id=1cmTTWY3f18SikgRBcZzhtFswIf7XwPJq\"\n",
    "# dataframe = pd.read_csv(url,parse_dates=[\"datetime\"])\n",
    "variable_column = [\"temp\", \"o3\"]\n",
    "# Else if using local files:\n",
    "import os\n",
    "TIMESERIES_DATA_DIR = \"./timeseries_data/\"\n",
    "dataframe = pd.read_csv(os.path.join(TIMESERIES_DATA_DIR, \"normalized_data.csv\"))\n",
    "dataframe.head()"
   ]
  },
  {
   "cell_type": "code",
   "execution_count": 25,
   "id": "936bd018",
   "metadata": {
    "colab": {
     "base_uri": "https://localhost:8080/"
    },
    "executionInfo": {
     "elapsed": 32,
     "status": "ok",
     "timestamp": 1749056376256,
     "user": {
      "displayName": "Sindhu Vasireddy",
      "userId": "12995924272851590760"
     },
     "user_tz": -120
    },
    "id": "936bd018",
    "outputId": "41f1602b-291c-4edf-8dbb-28e25fc21b2e"
   },
   "outputs": [
    {
     "data": {
      "text/plain": [
       "(220312, 6)"
      ]
     },
     "execution_count": 25,
     "metadata": {},
     "output_type": "execute_result"
    }
   ],
   "source": [
    "dataframe.shape"
   ]
  },
  {
   "cell_type": "code",
   "execution_count": 26,
   "id": "58b300cc",
   "metadata": {
    "executionInfo": {
     "elapsed": 1017,
     "status": "ok",
     "timestamp": 1749056378984,
     "user": {
      "displayName": "Sindhu Vasireddy",
      "userId": "12995924272851590760"
     },
     "user_tz": -120
    },
    "id": "58b300cc"
   },
   "outputs": [],
   "source": [
    "import pandas as pd\n",
    "import numpy as np\n",
    "from sklearn.metrics import mean_squared_error"
   ]
  },
  {
   "cell_type": "code",
   "execution_count": 27,
   "id": "f819a09a",
   "metadata": {},
   "outputs": [
    {
     "data": {
      "application/vnd.microsoft.datawrangler.viewer.v0+json": {
       "columns": [
        {
         "name": "index",
         "rawType": "int64",
         "type": "integer"
        },
        {
         "name": "longitude",
         "rawType": "float64",
         "type": "float"
        },
        {
         "name": "latitude",
         "rawType": "float64",
         "type": "float"
        },
        {
         "name": "station_code",
         "rawType": "object",
         "type": "string"
        },
        {
         "name": "datetime",
         "rawType": "object",
         "type": "string"
        },
        {
         "name": "o3",
         "rawType": "float64",
         "type": "float"
        },
        {
         "name": "temp",
         "rawType": "float64",
         "type": "float"
        }
       ],
       "ref": "706b7292-d28e-40b8-bf4d-ee8026f20544",
       "rows": [
        [
         "0",
         "8.500619",
         "50.567185",
         "DEHE020",
         "1992-03-12 05:00:00+00:00",
         "-0.6937682752734114",
         "-1.4554906977322997"
        ],
        [
         "1",
         "8.500619",
         "50.567185",
         "DEHE020",
         "1992-03-12 06:00:00+00:00",
         "-0.4515545348219182",
         "-1.4554906977322997"
        ],
        [
         "2",
         "8.500619",
         "50.567185",
         "DEHE020",
         "1992-03-12 07:00:00+00:00",
         "-0.3477486460569928",
         "-1.4554906977322997"
        ],
        [
         "3",
         "8.500619",
         "50.567185",
         "DEHE020",
         "1992-03-12 08:00:00+00:00",
         "-0.9878849601073671",
         "-1.4554906977322997"
        ],
        [
         "4",
         "8.500619",
         "50.567185",
         "DEHE020",
         "1992-03-12 09:00:00+00:00",
         "-0.814875145499158",
         "-1.4554906977322997"
        ]
       ],
       "shape": {
        "columns": 6,
        "rows": 5
       }
      },
      "text/html": [
       "<div>\n",
       "<style scoped>\n",
       "    .dataframe tbody tr th:only-of-type {\n",
       "        vertical-align: middle;\n",
       "    }\n",
       "\n",
       "    .dataframe tbody tr th {\n",
       "        vertical-align: top;\n",
       "    }\n",
       "\n",
       "    .dataframe thead th {\n",
       "        text-align: right;\n",
       "    }\n",
       "</style>\n",
       "<table border=\"1\" class=\"dataframe\">\n",
       "  <thead>\n",
       "    <tr style=\"text-align: right;\">\n",
       "      <th></th>\n",
       "      <th>longitude</th>\n",
       "      <th>latitude</th>\n",
       "      <th>station_code</th>\n",
       "      <th>datetime</th>\n",
       "      <th>o3</th>\n",
       "      <th>temp</th>\n",
       "    </tr>\n",
       "  </thead>\n",
       "  <tbody>\n",
       "    <tr>\n",
       "      <th>0</th>\n",
       "      <td>8.500619</td>\n",
       "      <td>50.567185</td>\n",
       "      <td>DEHE020</td>\n",
       "      <td>1992-03-12 05:00:00+00:00</td>\n",
       "      <td>-0.693768</td>\n",
       "      <td>-1.455491</td>\n",
       "    </tr>\n",
       "    <tr>\n",
       "      <th>1</th>\n",
       "      <td>8.500619</td>\n",
       "      <td>50.567185</td>\n",
       "      <td>DEHE020</td>\n",
       "      <td>1992-03-12 06:00:00+00:00</td>\n",
       "      <td>-0.451555</td>\n",
       "      <td>-1.455491</td>\n",
       "    </tr>\n",
       "    <tr>\n",
       "      <th>2</th>\n",
       "      <td>8.500619</td>\n",
       "      <td>50.567185</td>\n",
       "      <td>DEHE020</td>\n",
       "      <td>1992-03-12 07:00:00+00:00</td>\n",
       "      <td>-0.347749</td>\n",
       "      <td>-1.455491</td>\n",
       "    </tr>\n",
       "    <tr>\n",
       "      <th>3</th>\n",
       "      <td>8.500619</td>\n",
       "      <td>50.567185</td>\n",
       "      <td>DEHE020</td>\n",
       "      <td>1992-03-12 08:00:00+00:00</td>\n",
       "      <td>-0.987885</td>\n",
       "      <td>-1.455491</td>\n",
       "    </tr>\n",
       "    <tr>\n",
       "      <th>4</th>\n",
       "      <td>8.500619</td>\n",
       "      <td>50.567185</td>\n",
       "      <td>DEHE020</td>\n",
       "      <td>1992-03-12 09:00:00+00:00</td>\n",
       "      <td>-0.814875</td>\n",
       "      <td>-1.455491</td>\n",
       "    </tr>\n",
       "  </tbody>\n",
       "</table>\n",
       "</div>"
      ],
      "text/plain": [
       "   longitude   latitude station_code                   datetime        o3  \\\n",
       "0   8.500619  50.567185      DEHE020  1992-03-12 05:00:00+00:00 -0.693768   \n",
       "1   8.500619  50.567185      DEHE020  1992-03-12 06:00:00+00:00 -0.451555   \n",
       "2   8.500619  50.567185      DEHE020  1992-03-12 07:00:00+00:00 -0.347749   \n",
       "3   8.500619  50.567185      DEHE020  1992-03-12 08:00:00+00:00 -0.987885   \n",
       "4   8.500619  50.567185      DEHE020  1992-03-12 09:00:00+00:00 -0.814875   \n",
       "\n",
       "       temp  \n",
       "0 -1.455491  \n",
       "1 -1.455491  \n",
       "2 -1.455491  \n",
       "3 -1.455491  \n",
       "4 -1.455491  "
      ]
     },
     "execution_count": 27,
     "metadata": {},
     "output_type": "execute_result"
    }
   ],
   "source": [
    "dataframe.head()"
   ]
  },
  {
   "cell_type": "code",
   "execution_count": 28,
   "id": "0b7e3512",
   "metadata": {
    "executionInfo": {
     "elapsed": 69,
     "status": "ok",
     "timestamp": 1749056381090,
     "user": {
      "displayName": "Sindhu Vasireddy",
      "userId": "12995924272851590760"
     },
     "user_tz": -120
    },
    "id": "0b7e3512"
   },
   "outputs": [],
   "source": [
    "def create_sequences(data, variable_column, n_past=336, n_future=96):\n",
    "    df = data.copy()\n",
    "    df['datetime'] = pd.to_datetime(df['datetime'])\n",
    "    df = df.sort_values(['station_code', 'datetime']).reset_index(drop=True)\n",
    "\n",
    "    # 1) Encode station_code as integer codes (not as a categorical dtype!)\n",
    "    df['sc_code'] = df['station_code'].astype('category')\n",
    "\n",
    "    # 2) Boolean mask: True if exactly 1 hour after the previous row (per station)\n",
    "    is1h = (\n",
    "        df.groupby('station_code')['datetime']\n",
    "          .diff()\n",
    "          .eq(pd.Timedelta(hours=1))\n",
    "    )\n",
    "\n",
    "    # 3) Compute rolling count of consecutive 1h-gaps over (n_past + n_future - 1)\n",
    "    gap_window = n_past + n_future - 1\n",
    "    run = (\n",
    "        is1h\n",
    "        .groupby(df['station_code'])\n",
    "        .rolling(window=gap_window, min_periods=gap_window)\n",
    "        .sum()\n",
    "        .reset_index(level=0, drop=True)\n",
    "    )\n",
    "    # # make sure it's integer (sum of Trues)\n",
    "    # run = run.astype(int)\n",
    "\n",
    "    # 4) 'ends' are indices where run >= gap_window (full contiguous block)\n",
    "    ends = run[run >= gap_window].index\n",
    "\n",
    "    # 5) Extract arrays\n",
    "    sc_arr = df['sc_code'].values\n",
    "    vals   = df[variable_column].values\n",
    "\n",
    "    X_list, y_list = [], []\n",
    "    for end_idx in ends:\n",
    "        start_idx = end_idx - gap_window\n",
    "        # ensure valid window and same station at both ends\n",
    "        if start_idx >= 0 and sc_arr[start_idx] == sc_arr[end_idx]:\n",
    "            block_sc  = sc_arr[start_idx : end_idx + 1]      # (gap_window+1,)\n",
    "            block_var = vals[start_idx : end_idx + 1]        # (gap_window+1,)\n",
    "\n",
    "            # stack station code + variable column\n",
    "            block = np.column_stack((block_sc, block_var))\n",
    "\n",
    "            X_list.append(block[:n_past, :])\n",
    "            y_list.append(block[n_past:, :])\n",
    "\n",
    "    if not X_list:\n",
    "        return np.empty((0, n_past, 2)), np.empty((0, n_future, 2))\n",
    "\n",
    "    X = np.stack(X_list)\n",
    "    y = np.stack(y_list)\n",
    "    return X, y\n",
    "\n",
    "# Function to evaluate model performance\n",
    "def evaluate_model(y_true, y_pred):\n",
    "    mse = mean_squared_error(y_true, y_pred)\n",
    "    rmse = np.sqrt(mse)\n",
    "    print(f\"RMSE: {rmse:.4f}\")\n",
    "    return rmse"
   ]
  },
  {
   "cell_type": "code",
   "execution_count": 29,
   "id": "7ef1ec10",
   "metadata": {
    "colab": {
     "base_uri": "https://localhost:8080/"
    },
    "executionInfo": {
     "elapsed": 50030,
     "status": "ok",
     "timestamp": 1749056433513,
     "user": {
      "displayName": "Sindhu Vasireddy",
      "userId": "12995924272851590760"
     },
     "user_tz": -120
    },
    "id": "7ef1ec10",
    "outputId": "6e675e8b-24b4-42ac-ac8c-78a14804a18d"
   },
   "outputs": [
    {
     "name": "stdout",
     "output_type": "stream",
     "text": [
      "X_train shape: (69370, 336, 3), y_train shape: (69370, 96, 3)\n",
      "X_test shape: (29730, 336, 3), y_test shape: (29730, 96, 3)\n"
     ]
    }
   ],
   "source": [
    "import pickle\n",
    "context_window = 336\n",
    "prediction_horizon = 96\n",
    "\n",
    "X, y = create_sequences(dataframe,variable_column,context_window,prediction_horizon)\n",
    "\n",
    "train_size = int(len(X) * 0.7)\n",
    "X_train, X_test = X[:train_size], X[train_size:]\n",
    "y_train, y_test = y[:train_size], y[train_size:]\n",
    "\n",
    "# with open(\"./content/X_train.pkl\", \"rb\") as f:\n",
    "#     X_train = pickle.load(f)\n",
    "\n",
    "# with open(\"./content/X_test.pkl\", \"rb\") as f:\n",
    "#     X_test = pickle.load(f)\n",
    "\n",
    "# with open(\"./content/y_train.pkl\", \"rb\") as f:\n",
    "#     y_train = pickle.load(f)\n",
    "\n",
    "# with open(\"./content/y_test.pkl\", \"rb\") as f:\n",
    "#     y_test = pickle.load(f)\n",
    "\n",
    "print(f\"X_train shape: {X_train.shape}, y_train shape: {y_train.shape}\")\n",
    "print(f\"X_test shape: {X_test.shape}, y_test shape: {y_test.shape}\")"
   ]
  },
  {
   "cell_type": "markdown",
   "id": "e9c03ebd",
   "metadata": {
    "id": "e9c03ebd"
   },
   "source": [
    "### Forecasting with MA models: SARIMAX\n",
    "\n",
    "\n",
    "😈 **Task 1:** Try modeling without seasonal terms. How do AIC and RMSE compare?\n",
    "\n",
    "😈 **Task 2:** Add an exogenous variable like `o3` into SARIMAX and observe results.\n",
    "\n",
    "😈 **Question 1:** How does adding an exogenous variable enhance forecasting in SARIMAX?\n",
    "\n",
    "\n"
   ]
  },
  {
   "cell_type": "code",
   "execution_count": 6,
   "id": "25d7cf11",
   "metadata": {
    "colab": {
     "base_uri": "https://localhost:8080/",
     "height": 1000
    },
    "executionInfo": {
     "elapsed": 1219,
     "status": "ok",
     "timestamp": 1749057078295,
     "user": {
      "displayName": "Sindhu Vasireddy",
      "userId": "12995924272851590760"
     },
     "user_tz": -120
    },
    "id": "25d7cf11",
    "outputId": "1714bfce-99b0-4eb1-c411-c7ff032d9c88"
   },
   "outputs": [
    {
     "name": "stdout",
     "output_type": "stream",
     "text": [
      "ADF p-value: 0.01318843702336355\n"
     ]
    },
    {
     "data": {
      "image/png": "[encoded data removed]",
      "text/plain": [
       "<Figure size 1200x1000 with 1 Axes>"
      ]
     },
     "metadata": {},
     "output_type": "display_data"
    },
    {
     "name": "stdout",
     "output_type": "stream",
     "text": [
      "Mean Squared Error (MSE): 8.801\n"
     ]
    },
    {
     "data": {
      "application/vnd.microsoft.datawrangler.viewer.v0+json": {
       "columns": [
        {
         "name": "index",
         "rawType": "object",
         "type": "string"
        },
        {
         "name": "SARIMA Summary",
         "rawType": "object",
         "type": "unknown"
        }
       ],
       "ref": "f69ded8f-46b3-4d6a-9aec-8d4703950888",
       "rows": [
        [
         "DENW094",
         "                                     SARIMAX Results                                      \n==========================================================================================\nDep. Variable:                                  y   No. Observations:                  336\nModel:             SARIMAX(1, 0, 1)x(1, 0, 1, 24)   Log Likelihood                -436.491\nDate:                            Mon, 30 Jun 2025   AIC                            882.982\nTime:                                    18:49:30   BIC                            901.665\nSample:                                         0   HQIC                           890.451\n                                            - 336                                         \nCovariance Type:                              opg                                         \n==============================================================================\n                 coef    std err          z      P>|z|      [0.025      0.975]\n------------------------------------------------------------------------------\nar.L1          0.8788      0.024     36.405      0.000       0.831       0.926\nma.L1          0.4094      0.049      8.343      0.000       0.313       0.506\nar.S.L24       0.9900      0.010    102.482      0.000       0.971       1.009\nma.S.L24      -1.0000    555.005     -0.002      0.999   -1088.791    1086.791\nsigma2         0.7975    442.633      0.002      0.999    -866.748     868.343\n===================================================================================\nLjung-Box (L1) (Q):                   0.06   Jarque-Bera (JB):                68.16\nProb(Q):                              0.81   Prob(JB):                         0.00\nHeteroskedasticity (H):               0.95   Skew:                             0.50\nProb(H) (two-sided):                  0.80   Kurtosis:                         5.06\n===================================================================================\n\nWarnings:\n[1] Covariance matrix calculated using the outer product of gradients (complex-step)."
        ]
       ],
       "shape": {
        "columns": 1,
        "rows": 1
       }
      },
      "text/html": [
       "<div>\n",
       "<style scoped>\n",
       "    .dataframe tbody tr th:only-of-type {\n",
       "        vertical-align: middle;\n",
       "    }\n",
       "\n",
       "    .dataframe tbody tr th {\n",
       "        vertical-align: top;\n",
       "    }\n",
       "\n",
       "    .dataframe thead th {\n",
       "        text-align: right;\n",
       "    }\n",
       "</style>\n",
       "<table border=\"1\" class=\"dataframe\">\n",
       "  <thead>\n",
       "    <tr style=\"text-align: right;\">\n",
       "      <th></th>\n",
       "      <th>SARIMA Summary</th>\n",
       "    </tr>\n",
       "  </thead>\n",
       "  <tbody>\n",
       "    <tr>\n",
       "      <th>DENW094</th>\n",
       "      <td>SARIMAX R...</td>\n",
       "    </tr>\n",
       "  </tbody>\n",
       "</table>\n",
       "</div>"
      ],
      "text/plain": [
       "                                            SARIMA Summary\n",
       "DENW094                                       SARIMAX R..."
      ]
     },
     "metadata": {},
     "output_type": "display_data"
    }
   ],
   "source": [
    "import pandas as pd\n",
    "import numpy as np\n",
    "import matplotlib.pyplot as plt\n",
    "from statsmodels.tsa.statespace.sarimax import SARIMAX\n",
    "from statsmodels.tsa.stattools import adfuller\n",
    "from sklearn.metrics import mean_squared_error\n",
    "\n",
    "# Define forecast horizon (96 hours = 4 days)\n",
    "forecast_hours = 96\n",
    "\n",
    "sarima_results = {}\n",
    "\n",
    "# First sample of DENW094 station to compare with PatchTST\n",
    "X_first_idx = np.flatnonzero(X_test[:, 0, 0] == 'DENW094')[0]\n",
    "X_test_sample=X_test[X_first_idx, :, 1].astype(np.float32) # First column is station code hence adding 1\n",
    "# First sample of DENW094 station to compare with PatchTST\n",
    "y_first_idx = np.flatnonzero(X_test[:, 0, 0] == 'DENW094')[0]\n",
    "y_test_sample=y_test[y_first_idx, :, 1].astype(np.float32) # First column is station code hence adding 1\n",
    "\n",
    "# Check stationarity using ADF test\n",
    "adf_test = adfuller(X_test_sample)\n",
    "p_value = adf_test[1]\n",
    "print(f\"ADF p-value: {p_value}\")\n",
    "\n",
    "# Differencing if needed\n",
    "d = 0 if p_value < 0.05 else 1  # If p-value < 0.05, it's stationary\n",
    "seasonal_period = 24\n",
    "\n",
    "# Fit SARIMA model\n",
    "try:\n",
    "    sarima_model = SARIMAX(X_test_sample,\n",
    "        order=(1, d, 1),\n",
    "        seasonal_order=(1, d, 1, seasonal_period),\n",
    "        enforce_stationarity=False,\n",
    "        enforce_invertibility=False).fit()\n",
    "\n",
    "    fitted_values = sarima_model.fittedvalues\n",
    "    forecast = sarima_model.get_forecast(steps=forecast_hours)\n",
    "    forecast_values = forecast.predicted_mean\n",
    "    confidence_intervals = forecast.conf_int()\n",
    "\n",
    "    timesteps = np.arange(context_window, context_window + prediction_horizon)\n",
    "    with open(\"denw094_temp_predictions_sarima.csv\", \"w\", newline=\"\") as csvfile:\n",
    "        writer = csv.writer(csvfile)\n",
    "        writer.writerow([\"timestep\", \"temperature\"])\n",
    "        for t, pred in zip(timesteps, forecast_values):\n",
    "            writer.writerow([t, pred])\n",
    "\n",
    "    # Plot actual vs predicted values\n",
    "    plt.figure(figsize=(12, 10))\n",
    "\n",
    "    plt.plot(range(context_window),  X_test_sample, label=\"Context\", color=\"blue\", marker=\"o\")\n",
    "    plt.plot(range(context_window, context_window + prediction_horizon), y_test_sample, label=\"Actual Future\", color=\"green\", marker=\"o\")\n",
    "    plt.plot(range(context_window, context_window + prediction_horizon), forecast_values, label=\"SARIMA Prediction\", linestyle=\"--\", color=\"orange\", marker=\"x\")\n",
    "\n",
    "    plt.title(f\"SARIMA 96-Hour Forecast vs Actual (336h) - DENW094\")\n",
    "    plt.xlabel(\"Time Step\")\n",
    "    plt.ylabel(\"temp Levels\")\n",
    "    plt.legend()\n",
    "    plt.tight_layout()\n",
    "    plt.show()\n",
    "\n",
    "    sarima_results[\"DENW094\"] = sarima_model.summary()\n",
    "\n",
    "    mse = mean_squared_error(y_test_sample, forecast_values)\n",
    "    print(f\"Mean Squared Error (MSE): {mse:.3f}\")\n",
    "\n",
    "except Exception as e:\n",
    "    sarima_results['DENW094'] = f\"Error: {e}\"\n",
    "\n",
    "sarima_results_df = pd.DataFrame.from_dict(sarima_results, orient='index', columns=['SARIMA Summary'])\n",
    "display(sarima_results_df)\n"
   ]
  },
  {
   "cell_type": "markdown",
   "id": "34a1fc90",
   "metadata": {
    "id": "34a1fc90"
   },
   "source": [
    "## Data Preprocessing (Normalization)\n",
    "\n",
    "the snippet below uses standard Z normalization (this is a simple snippet alternatively other approaches could also be used as desired)\n",
    "\n",
    "\n",
    "😈 **Task 3:** Implement min-max normalization and compare the results visually with Z-score.\n"
   ]
  },
  {
   "cell_type": "code",
   "execution_count": 7,
   "id": "lW06F1v7p8mJ",
   "metadata": {
    "id": "lW06F1v7p8mJ"
   },
   "outputs": [],
   "source": [
    "import requests\n",
    "import json\n",
    "import pandas as pd\n",
    "import os\n",
    "import csv\n",
    "from datetime import datetime\n",
    "\n",
    "# German stations with good distribution temp variable observations\n",
    "station_codes = [\"DENW094\", \"DEBW073\",\"DEHE020\"]\n",
    "variable_columns = [\"temp\"]\n",
    "# station_codes = [\"DENW094\"]\n",
    "# variable_columns = [\"no2\", \"temp\", \"o3\", \"no\", \"press\"]"
   ]
  },
  {
   "cell_type": "code",
   "execution_count": 8,
   "id": "b8a947a0",
   "metadata": {
    "id": "b8a947a0"
   },
   "outputs": [],
   "source": [
    "def standard_scaler(df, columns):\n",
    "    \"\"\"\n",
    "    Standardize the specified columns of a DataFrame by subtracting the mean\n",
    "    and dividing by the standard deviation (Z-score normalization).\n",
    "\n",
    "    Args:\n",
    "        df (pd.DataFrame): The input DataFrame.\n",
    "        columns (list): List of column names to be normalized.\n",
    "\n",
    "    Returns:\n",
    "        pd.DataFrame: DataFrame with normalized columns.\n",
    "    \"\"\"\n",
    "\n",
    "    df_scaled = df.copy()\n",
    "    for col in columns:\n",
    "        df_scaled[col] = (\n",
    "            df_scaled\n",
    "            .groupby(\"station_code\")[col]\n",
    "            .transform(lambda x: (x - x.mean()) / x.std())\n",
    "        )\n",
    "    return df_scaled"
   ]
  },
  {
   "cell_type": "code",
   "execution_count": 9,
   "id": "7ff0651c",
   "metadata": {
    "id": "7ff0651c",
    "outputId": "298e3599-44c9-4fba-9fc7-d9682d60836f"
   },
   "outputs": [
    {
     "data": {
      "application/vnd.microsoft.datawrangler.viewer.v0+json": {
       "columns": [
        {
         "name": "index",
         "rawType": "int64",
         "type": "integer"
        },
        {
         "name": "longitude",
         "rawType": "float64",
         "type": "float"
        },
        {
         "name": "latitude",
         "rawType": "float64",
         "type": "float"
        },
        {
         "name": "station_code",
         "rawType": "object",
         "type": "string"
        },
        {
         "name": "datetime",
         "rawType": "object",
         "type": "string"
        },
        {
         "name": "temp",
         "rawType": "float64",
         "type": "float"
        }
       ],
       "ref": "5534bac7-c47e-404d-98aa-8260f00aa28c",
       "rows": [
        [
         "0",
         "7.567796",
         "47.819182",
         "DEBW073",
         "1997-01-01 00:00:00+00:00",
         "-2.564190748516944"
        ],
        [
         "1",
         "7.567796",
         "47.819182",
         "DEBW073",
         "1997-01-01 01:00:00+00:00",
         "-2.68642240200875"
        ],
        [
         "2",
         "7.567796",
         "47.819182",
         "DEBW073",
         "1997-01-01 02:00:00+00:00",
         "-2.68642240200875"
        ],
        [
         "3",
         "7.567796",
         "47.819182",
         "DEBW073",
         "1997-01-01 03:00:00+00:00",
         "-2.8086540555005564"
        ],
        [
         "4",
         "7.567796",
         "47.819182",
         "DEBW073",
         "1997-01-01 04:00:00+00:00",
         "-2.8086540555005564"
        ]
       ],
       "shape": {
        "columns": 5,
        "rows": 5
       }
      },
      "text/html": [
       "<div>\n",
       "<style scoped>\n",
       "    .dataframe tbody tr th:only-of-type {\n",
       "        vertical-align: middle;\n",
       "    }\n",
       "\n",
       "    .dataframe tbody tr th {\n",
       "        vertical-align: top;\n",
       "    }\n",
       "\n",
       "    .dataframe thead th {\n",
       "        text-align: right;\n",
       "    }\n",
       "</style>\n",
       "<table border=\"1\" class=\"dataframe\">\n",
       "  <thead>\n",
       "    <tr style=\"text-align: right;\">\n",
       "      <th></th>\n",
       "      <th>longitude</th>\n",
       "      <th>latitude</th>\n",
       "      <th>station_code</th>\n",
       "      <th>datetime</th>\n",
       "      <th>temp</th>\n",
       "    </tr>\n",
       "  </thead>\n",
       "  <tbody>\n",
       "    <tr>\n",
       "      <th>0</th>\n",
       "      <td>7.567796</td>\n",
       "      <td>47.819182</td>\n",
       "      <td>DEBW073</td>\n",
       "      <td>1997-01-01 00:00:00+00:00</td>\n",
       "      <td>-2.564191</td>\n",
       "    </tr>\n",
       "    <tr>\n",
       "      <th>1</th>\n",
       "      <td>7.567796</td>\n",
       "      <td>47.819182</td>\n",
       "      <td>DEBW073</td>\n",
       "      <td>1997-01-01 01:00:00+00:00</td>\n",
       "      <td>-2.686422</td>\n",
       "    </tr>\n",
       "    <tr>\n",
       "      <th>2</th>\n",
       "      <td>7.567796</td>\n",
       "      <td>47.819182</td>\n",
       "      <td>DEBW073</td>\n",
       "      <td>1997-01-01 02:00:00+00:00</td>\n",
       "      <td>-2.686422</td>\n",
       "    </tr>\n",
       "    <tr>\n",
       "      <th>3</th>\n",
       "      <td>7.567796</td>\n",
       "      <td>47.819182</td>\n",
       "      <td>DEBW073</td>\n",
       "      <td>1997-01-01 03:00:00+00:00</td>\n",
       "      <td>-2.808654</td>\n",
       "    </tr>\n",
       "    <tr>\n",
       "      <th>4</th>\n",
       "      <td>7.567796</td>\n",
       "      <td>47.819182</td>\n",
       "      <td>DEBW073</td>\n",
       "      <td>1997-01-01 04:00:00+00:00</td>\n",
       "      <td>-2.808654</td>\n",
       "    </tr>\n",
       "  </tbody>\n",
       "</table>\n",
       "</div>"
      ],
      "text/plain": [
       "   longitude   latitude station_code                   datetime      temp\n",
       "0   7.567796  47.819182      DEBW073  1997-01-01 00:00:00+00:00 -2.564191\n",
       "1   7.567796  47.819182      DEBW073  1997-01-01 01:00:00+00:00 -2.686422\n",
       "2   7.567796  47.819182      DEBW073  1997-01-01 02:00:00+00:00 -2.686422\n",
       "3   7.567796  47.819182      DEBW073  1997-01-01 03:00:00+00:00 -2.808654\n",
       "4   7.567796  47.819182      DEBW073  1997-01-01 04:00:00+00:00 -2.808654"
      ]
     },
     "execution_count": 9,
     "metadata": {},
     "output_type": "execute_result"
    }
   ],
   "source": [
    "dataframes = standard_scaler(dataframe, variable_columns)\n",
    "dataframes.head()"
   ]
  },
  {
   "cell_type": "code",
   "execution_count": null,
   "id": "3ab0b83f",
   "metadata": {
    "id": "3ab0b83f",
    "outputId": "bd056fef-d16c-4535-d6ec-8d8f89b6488b"
   },
   "outputs": [
    {
     "ename": "OSError",
     "evalue": "Cannot save file into a non-existent directory: 'content/timeseries_data'",
     "output_type": "error",
     "traceback": [
      "\u001b[31m---------------------------------------------------------------------------\u001b[39m",
      "\u001b[31mOSError\u001b[39m                                   Traceback (most recent call last)",
      "\u001b[36mCell\u001b[39m\u001b[36m \u001b[39m\u001b[32mIn[10]\u001b[39m\u001b[32m, line 2\u001b[39m\n\u001b[32m      1\u001b[39m TIMESERIES_DATA_DIR = \u001b[33m\"\u001b[39m\u001b[33m./content/timeseries_data/\u001b[39m\u001b[33m\"\u001b[39m\n\u001b[32m----> \u001b[39m\u001b[32m2\u001b[39m \u001b[43mdataframes\u001b[49m\u001b[43m.\u001b[49m\u001b[43mto_csv\u001b[49m\u001b[43m(\u001b[49m\u001b[43mos\u001b[49m\u001b[43m.\u001b[49m\u001b[43mpath\u001b[49m\u001b[43m.\u001b[49m\u001b[43mjoin\u001b[49m\u001b[43m(\u001b[49m\u001b[43mTIMESERIES_DATA_DIR\u001b[49m\u001b[43m,\u001b[49m\u001b[43m \u001b[49m\u001b[33;43m\"\u001b[39;49m\u001b[33;43mnormalized_data.csv\u001b[39;49m\u001b[33;43m\"\u001b[39;49m\u001b[43m)\u001b[49m\u001b[43m,\u001b[49m\u001b[43m \u001b[49m\u001b[43mindex\u001b[49m\u001b[43m=\u001b[49m\u001b[38;5;28;43;01mFalse\u001b[39;49;00m\u001b[43m)\u001b[49m\n\u001b[32m      3\u001b[39m dataframes.shape\n",
      "\u001b[36mFile \u001b[39m\u001b[32m/opt/homebrew/anaconda3/envs/mless/lib/python3.12/site-packages/pandas/util/_decorators.py:333\u001b[39m, in \u001b[36mdeprecate_nonkeyword_arguments.<locals>.decorate.<locals>.wrapper\u001b[39m\u001b[34m(*args, **kwargs)\u001b[39m\n\u001b[32m    327\u001b[39m \u001b[38;5;28;01mif\u001b[39;00m \u001b[38;5;28mlen\u001b[39m(args) > num_allow_args:\n\u001b[32m    328\u001b[39m     warnings.warn(\n\u001b[32m    329\u001b[39m         msg.format(arguments=_format_argument_list(allow_args)),\n\u001b[32m    330\u001b[39m         \u001b[38;5;167;01mFutureWarning\u001b[39;00m,\n\u001b[32m    331\u001b[39m         stacklevel=find_stack_level(),\n\u001b[32m    332\u001b[39m     )\n\u001b[32m--> \u001b[39m\u001b[32m333\u001b[39m \u001b[38;5;28;01mreturn\u001b[39;00m \u001b[43mfunc\u001b[49m\u001b[43m(\u001b[49m\u001b[43m*\u001b[49m\u001b[43margs\u001b[49m\u001b[43m,\u001b[49m\u001b[43m \u001b[49m\u001b[43m*\u001b[49m\u001b[43m*\u001b[49m\u001b[43mkwargs\u001b[49m\u001b[43m)\u001b[49m\n",
      "\u001b[36mFile \u001b[39m\u001b[32m/opt/homebrew/anaconda3/envs/mless/lib/python3.12/site-packages/pandas/core/generic.py:3967\u001b[39m, in \u001b[36mNDFrame.to_csv\u001b[39m\u001b[34m(self, path_or_buf, sep, na_rep, float_format, columns, header, index, index_label, mode, encoding, compression, quoting, quotechar, lineterminator, chunksize, date_format, doublequote, escapechar, decimal, errors, storage_options)\u001b[39m\n\u001b[32m   3956\u001b[39m df = \u001b[38;5;28mself\u001b[39m \u001b[38;5;28;01mif\u001b[39;00m \u001b[38;5;28misinstance\u001b[39m(\u001b[38;5;28mself\u001b[39m, ABCDataFrame) \u001b[38;5;28;01melse\u001b[39;00m \u001b[38;5;28mself\u001b[39m.to_frame()\n\u001b[32m   3958\u001b[39m formatter = DataFrameFormatter(\n\u001b[32m   3959\u001b[39m     frame=df,\n\u001b[32m   3960\u001b[39m     header=header,\n\u001b[32m   (...)\u001b[39m\u001b[32m   3964\u001b[39m     decimal=decimal,\n\u001b[32m   3965\u001b[39m )\n\u001b[32m-> \u001b[39m\u001b[32m3967\u001b[39m \u001b[38;5;28;01mreturn\u001b[39;00m \u001b[43mDataFrameRenderer\u001b[49m\u001b[43m(\u001b[49m\u001b[43mformatter\u001b[49m\u001b[43m)\u001b[49m\u001b[43m.\u001b[49m\u001b[43mto_csv\u001b[49m\u001b[43m(\u001b[49m\n\u001b[32m   3968\u001b[39m \u001b[43m    \u001b[49m\u001b[43mpath_or_buf\u001b[49m\u001b[43m,\u001b[49m\n\u001b[32m   3969\u001b[39m \u001b[43m    \u001b[49m\u001b[43mlineterminator\u001b[49m\u001b[43m=\u001b[49m\u001b[43mlineterminator\u001b[49m\u001b[43m,\u001b[49m\n\u001b[32m   3970\u001b[39m \u001b[43m    \u001b[49m\u001b[43msep\u001b[49m\u001b[43m=\u001b[49m\u001b[43msep\u001b[49m\u001b[43m,\u001b[49m\n\u001b[32m   3971\u001b[39m \u001b[43m    \u001b[49m\u001b[43mencoding\u001b[49m\u001b[43m=\u001b[49m\u001b[43mencoding\u001b[49m\u001b[43m,\u001b[49m\n\u001b[32m   3972\u001b[39m \u001b[43m    \u001b[49m\u001b[43merrors\u001b[49m\u001b[43m=\u001b[49m\u001b[43merrors\u001b[49m\u001b[43m,\u001b[49m\n\u001b[32m   3973\u001b[39m \u001b[43m    \u001b[49m\u001b[43mcompression\u001b[49m\u001b[43m=\u001b[49m\u001b[43mcompression\u001b[49m\u001b[43m,\u001b[49m\n\u001b[32m   3974\u001b[39m \u001b[43m    \u001b[49m\u001b[43mquoting\u001b[49m\u001b[43m=\u001b[49m\u001b[43mquoting\u001b[49m\u001b[43m,\u001b[49m\n\u001b[32m   3975\u001b[39m \u001b[43m    \u001b[49m\u001b[43mcolumns\u001b[49m\u001b[43m=\u001b[49m\u001b[43mcolumns\u001b[49m\u001b[43m,\u001b[49m\n\u001b[32m   3976\u001b[39m \u001b[43m    \u001b[49m\u001b[43mindex_label\u001b[49m\u001b[43m=\u001b[49m\u001b[43mindex_label\u001b[49m\u001b[43m,\u001b[49m\n\u001b[32m   3977\u001b[39m \u001b[43m    \u001b[49m\u001b[43mmode\u001b[49m\u001b[43m=\u001b[49m\u001b[43mmode\u001b[49m\u001b[43m,\u001b[49m\n\u001b[32m   3978\u001b[39m \u001b[43m    \u001b[49m\u001b[43mchunksize\u001b[49m\u001b[43m=\u001b[49m\u001b[43mchunksize\u001b[49m\u001b[43m,\u001b[49m\n\u001b[32m   3979\u001b[39m \u001b[43m    \u001b[49m\u001b[43mquotechar\u001b[49m\u001b[43m=\u001b[49m\u001b[43mquotechar\u001b[49m\u001b[43m,\u001b[49m\n\u001b[32m   3980\u001b[39m \u001b[43m    \u001b[49m\u001b[43mdate_format\u001b[49m\u001b[43m=\u001b[49m\u001b[43mdate_format\u001b[49m\u001b[43m,\u001b[49m\n\u001b[32m   3981\u001b[39m \u001b[43m    \u001b[49m\u001b[43mdoublequote\u001b[49m\u001b[43m=\u001b[49m\u001b[43mdoublequote\u001b[49m\u001b[43m,\u001b[49m\n\u001b[32m   3982\u001b[39m \u001b[43m    \u001b[49m\u001b[43mescapechar\u001b[49m\u001b[43m=\u001b[49m\u001b[43mescapechar\u001b[49m\u001b[43m,\u001b[49m\n\u001b[32m   3983\u001b[39m \u001b[43m    \u001b[49m\u001b[43mstorage_options\u001b[49m\u001b[43m=\u001b[49m\u001b[43mstorage_options\u001b[49m\u001b[43m,\u001b[49m\n\u001b[32m   3984\u001b[39m \u001b[43m\u001b[49m\u001b[43m)\u001b[49m\n",
      "\u001b[36mFile \u001b[39m\u001b[32m/opt/homebrew/anaconda3/envs/mless/lib/python3.12/site-packages/pandas/io/formats/format.py:1014\u001b[39m, in \u001b[36mDataFrameRenderer.to_csv\u001b[39m\u001b[34m(self, path_or_buf, encoding, sep, columns, index_label, mode, compression, quoting, quotechar, lineterminator, chunksize, date_format, doublequote, escapechar, errors, storage_options)\u001b[39m\n\u001b[32m    993\u001b[39m     created_buffer = \u001b[38;5;28;01mFalse\u001b[39;00m\n\u001b[32m    995\u001b[39m csv_formatter = CSVFormatter(\n\u001b[32m    996\u001b[39m     path_or_buf=path_or_buf,\n\u001b[32m    997\u001b[39m     lineterminator=lineterminator,\n\u001b[32m   (...)\u001b[39m\u001b[32m   1012\u001b[39m     formatter=\u001b[38;5;28mself\u001b[39m.fmt,\n\u001b[32m   1013\u001b[39m )\n\u001b[32m-> \u001b[39m\u001b[32m1014\u001b[39m \u001b[43mcsv_formatter\u001b[49m\u001b[43m.\u001b[49m\u001b[43msave\u001b[49m\u001b[43m(\u001b[49m\u001b[43m)\u001b[49m\n\u001b[32m   1016\u001b[39m \u001b[38;5;28;01mif\u001b[39;00m created_buffer:\n\u001b[32m   1017\u001b[39m     \u001b[38;5;28;01massert\u001b[39;00m \u001b[38;5;28misinstance\u001b[39m(path_or_buf, StringIO)\n",
      "\u001b[36mFile \u001b[39m\u001b[32m/opt/homebrew/anaconda3/envs/mless/lib/python3.12/site-packages/pandas/io/formats/csvs.py:251\u001b[39m, in \u001b[36mCSVFormatter.save\u001b[39m\u001b[34m(self)\u001b[39m\n\u001b[32m    247\u001b[39m \u001b[38;5;250m\u001b[39m\u001b[33;03m\"\"\"\u001b[39;00m\n\u001b[32m    248\u001b[39m \u001b[33;03mCreate the writer & save.\u001b[39;00m\n\u001b[32m    249\u001b[39m \u001b[33;03m\"\"\"\u001b[39;00m\n\u001b[32m    250\u001b[39m \u001b[38;5;66;03m# apply compression and byte/text conversion\u001b[39;00m\n\u001b[32m--> \u001b[39m\u001b[32m251\u001b[39m \u001b[38;5;28;01mwith\u001b[39;00m \u001b[43mget_handle\u001b[49m\u001b[43m(\u001b[49m\n\u001b[32m    252\u001b[39m \u001b[43m    \u001b[49m\u001b[38;5;28;43mself\u001b[39;49m\u001b[43m.\u001b[49m\u001b[43mfilepath_or_buffer\u001b[49m\u001b[43m,\u001b[49m\n\u001b[32m    253\u001b[39m \u001b[43m    \u001b[49m\u001b[38;5;28;43mself\u001b[39;49m\u001b[43m.\u001b[49m\u001b[43mmode\u001b[49m\u001b[43m,\u001b[49m\n\u001b[32m    254\u001b[39m \u001b[43m    \u001b[49m\u001b[43mencoding\u001b[49m\u001b[43m=\u001b[49m\u001b[38;5;28;43mself\u001b[39;49m\u001b[43m.\u001b[49m\u001b[43mencoding\u001b[49m\u001b[43m,\u001b[49m\n\u001b[32m    255\u001b[39m \u001b[43m    \u001b[49m\u001b[43merrors\u001b[49m\u001b[43m=\u001b[49m\u001b[38;5;28;43mself\u001b[39;49m\u001b[43m.\u001b[49m\u001b[43merrors\u001b[49m\u001b[43m,\u001b[49m\n\u001b[32m    256\u001b[39m \u001b[43m    \u001b[49m\u001b[43mcompression\u001b[49m\u001b[43m=\u001b[49m\u001b[38;5;28;43mself\u001b[39;49m\u001b[43m.\u001b[49m\u001b[43mcompression\u001b[49m\u001b[43m,\u001b[49m\n\u001b[32m    257\u001b[39m \u001b[43m    \u001b[49m\u001b[43mstorage_options\u001b[49m\u001b[43m=\u001b[49m\u001b[38;5;28;43mself\u001b[39;49m\u001b[43m.\u001b[49m\u001b[43mstorage_options\u001b[49m\u001b[43m,\u001b[49m\n\u001b[32m    258\u001b[39m \u001b[43m\u001b[49m\u001b[43m)\u001b[49m \u001b[38;5;28;01mas\u001b[39;00m handles:\n\u001b[32m    259\u001b[39m     \u001b[38;5;66;03m# Note: self.encoding is irrelevant here\u001b[39;00m\n\u001b[32m    260\u001b[39m     \u001b[38;5;28mself\u001b[39m.writer = csvlib.writer(\n\u001b[32m    261\u001b[39m         handles.handle,\n\u001b[32m    262\u001b[39m         lineterminator=\u001b[38;5;28mself\u001b[39m.lineterminator,\n\u001b[32m   (...)\u001b[39m\u001b[32m    267\u001b[39m         quotechar=\u001b[38;5;28mself\u001b[39m.quotechar,\n\u001b[32m    268\u001b[39m     )\n\u001b[32m    270\u001b[39m     \u001b[38;5;28mself\u001b[39m._save()\n",
      "\u001b[36mFile \u001b[39m\u001b[32m/opt/homebrew/anaconda3/envs/mless/lib/python3.12/site-packages/pandas/io/common.py:749\u001b[39m, in \u001b[36mget_handle\u001b[39m\u001b[34m(path_or_buf, mode, encoding, compression, memory_map, is_text, errors, storage_options)\u001b[39m\n\u001b[32m    747\u001b[39m \u001b[38;5;66;03m# Only for write methods\u001b[39;00m\n\u001b[32m    748\u001b[39m \u001b[38;5;28;01mif\u001b[39;00m \u001b[33m\"\u001b[39m\u001b[33mr\u001b[39m\u001b[33m\"\u001b[39m \u001b[38;5;129;01mnot\u001b[39;00m \u001b[38;5;129;01min\u001b[39;00m mode \u001b[38;5;129;01mand\u001b[39;00m is_path:\n\u001b[32m--> \u001b[39m\u001b[32m749\u001b[39m     \u001b[43mcheck_parent_directory\u001b[49m\u001b[43m(\u001b[49m\u001b[38;5;28;43mstr\u001b[39;49m\u001b[43m(\u001b[49m\u001b[43mhandle\u001b[49m\u001b[43m)\u001b[49m\u001b[43m)\u001b[49m\n\u001b[32m    751\u001b[39m \u001b[38;5;28;01mif\u001b[39;00m compression:\n\u001b[32m    752\u001b[39m     \u001b[38;5;28;01mif\u001b[39;00m compression != \u001b[33m\"\u001b[39m\u001b[33mzstd\u001b[39m\u001b[33m\"\u001b[39m:\n\u001b[32m    753\u001b[39m         \u001b[38;5;66;03m# compression libraries do not like an explicit text-mode\u001b[39;00m\n",
      "\u001b[36mFile \u001b[39m\u001b[32m/opt/homebrew/anaconda3/envs/mless/lib/python3.12/site-packages/pandas/io/common.py:616\u001b[39m, in \u001b[36mcheck_parent_directory\u001b[39m\u001b[34m(path)\u001b[39m\n\u001b[32m    614\u001b[39m parent = Path(path).parent\n\u001b[32m    615\u001b[39m \u001b[38;5;28;01mif\u001b[39;00m \u001b[38;5;129;01mnot\u001b[39;00m parent.is_dir():\n\u001b[32m--> \u001b[39m\u001b[32m616\u001b[39m     \u001b[38;5;28;01mraise\u001b[39;00m \u001b[38;5;167;01mOSError\u001b[39;00m(\u001b[33mrf\u001b[39m\u001b[33m\"\u001b[39m\u001b[33mCannot save file into a non-existent directory: \u001b[39m\u001b[33m'\u001b[39m\u001b[38;5;132;01m{\u001b[39;00mparent\u001b[38;5;132;01m}\u001b[39;00m\u001b[33m'\u001b[39m\u001b[33m\"\u001b[39m)\n",
      "\u001b[31mOSError\u001b[39m: Cannot save file into a non-existent directory: 'content/timeseries_data'"
     ]
    },
    {
     "ename": "",
     "evalue": "",
     "output_type": "error",
     "traceback": [
      "\u001b[1;31mThe Kernel crashed while executing code in the current cell or a previous cell. \n",
      "\u001b[1;31mPlease review the code in the cell(s) to identify a possible cause of the failure. \n",
      "\u001b[1;31mClick <a href='https://aka.ms/vscodeJupyterKernelCrash'>here</a> for more info. \n",
      "\u001b[1;31mView Jupyter <a href='command:jupyter.viewOutput'>log</a> for further details."
     ]
    }
   ],
   "source": [
    "TIMESERIES_DATA_DIR = \"./content/timeseries_data/\"\n",
    "dataframes.to_csv(os.path.join(TIMESERIES_DATA_DIR, \"normalized_data.csv\"), index=False)\n",
    "dataframes.shape"
   ]
  },
  {
   "cell_type": "markdown",
   "id": "346d227f",
   "metadata": {
    "id": "346d227f"
   },
   "source": [
    "### Load the normalized data preparing samples for ML models.\n",
    "\n",
    "\n",
    "> Samples are needed for sequence models and transformer models for input\n",
    "\n",
    "😈 **Task 4:** What are some key differences between AR models and sequence models like RNNs or Transformers?\n",
    "\n",
    "😈 **Question 2:** Why is it important to maintain time continuity when preparing samples for sequence models?\n",
    "\n"
   ]
  },
  {
   "cell_type": "code",
   "execution_count": 32,
   "id": "sRXE9Nxmz3Cu",
   "metadata": {
    "colab": {
     "base_uri": "https://localhost:8080/"
    },
    "executionInfo": {
     "elapsed": 1486,
     "status": "ok",
     "timestamp": 1747670395023,
     "user": {
      "displayName": "Sindhu Vasireddy",
      "userId": "14937452893279665394"
     },
     "user_tz": -120
    },
    "id": "sRXE9Nxmz3Cu",
    "outputId": "446879ba-2100-4444-9b34-8afb7ecbbe2c"
   },
   "outputs": [
    {
     "data": {
      "text/plain": [
       "(220312, 6)"
      ]
     },
     "execution_count": 32,
     "metadata": {},
     "output_type": "execute_result"
    }
   ],
   "source": [
    "import pandas as pd\n",
    "import os\n",
    "\n",
    "## Normalized data csv is also made available for the select stations in URL:\n",
    "# url = \"https://drive.google.com/uc?export=download&id=1Eui59GyTXNv839WijdZ0CkzuMubmZQz1\"\n",
    "# dataframe = pd.read_csv(url,parse_dates=[\"datetime\"])\n",
    "# Else if using local files:\n",
    "dataframes = pd.read_csv(os.path.join(TIMESERIES_DATA_DIR, \"normalized_data.csv\"))\n",
    "variable_column = [\"temp\", \"o3\"]\n",
    "dataframe.shape"
   ]
  },
  {
   "cell_type": "markdown",
   "id": "76b26097",
   "metadata": {
    "id": "76b26097"
   },
   "source": [
    "80/20 train/test split chosen for illustration\n",
    "\n",
    "😈 **Task 5:** Try a rolling-window cross-validation strategy. How does model performance vary?\n",
    "\n",
    "😈 **Question 3:** What are the pitfalls of using random splits in timeseries forecasting?\n"
   ]
  },
  {
   "cell_type": "code",
   "execution_count": 33,
   "id": "181d6c87",
   "metadata": {
    "colab": {
     "base_uri": "https://localhost:8080/"
    },
    "executionInfo": {
     "elapsed": 249953,
     "status": "ok",
     "timestamp": 1747675717124,
     "user": {
      "displayName": "Sindhu Vasireddy",
      "userId": "14937452893279665394"
     },
     "user_tz": -120
    },
    "id": "181d6c87",
    "outputId": "c91c522c-86df-48cf-a166-bf421786af18"
   },
   "outputs": [
    {
     "name": "stdout",
     "output_type": "stream",
     "text": [
      "X_train shape: (69370, 336, 3), y_train shape: (69370, 96, 3)\n",
      "X_test shape: (29730, 336, 3), y_test shape: (29730, 96, 3)\n"
     ]
    }
   ],
   "source": [
    "context_window = 336\n",
    "prediction_horizon = 96\n",
    "\n",
    "X, y = create_sequences(dataframe,variable_column,context_window,prediction_horizon)\n",
    "\n",
    "train_size = int(len(X) * 0.7)\n",
    "X_train, X_test = X[:train_size], X[train_size:]\n",
    "y_train, y_test = y[:train_size], y[train_size:]\n",
    "\n",
    "print(f\"X_train shape: {X_train.shape}, y_train shape: {y_train.shape}\")\n",
    "print(f\"X_test shape: {X_test.shape}, y_test shape: {y_test.shape}\")"
   ]
  },
  {
   "cell_type": "code",
   "execution_count": 35,
   "id": "059a8dfe",
   "metadata": {
    "colab": {
     "base_uri": "https://localhost:8080/"
    },
    "executionInfo": {
     "elapsed": 42824,
     "status": "ok",
     "timestamp": 1747670765661,
     "user": {
      "displayName": "Sindhu Vasireddy",
      "userId": "14937452893279665394"
     },
     "user_tz": -120
    },
    "id": "059a8dfe",
    "outputId": "1b033209-8963-43d1-806c-fe8d241deb7a"
   },
   "outputs": [
    {
     "name": "stdout",
     "output_type": "stream",
     "text": [
      "Train/test datasets saved successfully.\n"
     ]
    }
   ],
   "source": [
    "import pickle\n",
    "\n",
    "with open(\"./content/X_train.pkl\", \"wb\") as f:\n",
    "    pickle.dump(X_train, f)\n",
    "\n",
    "with open(\"./content/X_test.pkl\", \"wb\") as f:\n",
    "    pickle.dump(X_test, f)\n",
    "\n",
    "with open(\"./content/y_train.pkl\", \"wb\") as f:\n",
    "    pickle.dump(y_train, f)\n",
    "\n",
    "with open(\"./content/y_test.pkl\", \"wb\") as f:\n",
    "    pickle.dump(y_test, f)\n",
    "\n",
    "print(\"Train/test datasets saved successfully.\")"
   ]
  },
  {
   "cell_type": "code",
   "execution_count": null,
   "id": "d2361f6d",
   "metadata": {
    "colab": {
     "base_uri": "https://localhost:8080/"
    },
    "executionInfo": {
     "elapsed": 2718,
     "status": "ok",
     "timestamp": 1747670820743,
     "user": {
      "displayName": "Sindhu Vasireddy",
      "userId": "14937452893279665394"
     },
     "user_tz": -120
    },
    "id": "d2361f6d",
    "outputId": "c081eab4-3793-4c05-e1e1-6599630eb5f1"
   },
   "outputs": [
    {
     "name": "stdout",
     "output_type": "stream",
     "text": [
      "X_train shape: (373938, 336, 2), y_train shape: (373938, 96, 2)\n",
      "X_test shape: (160260, 336, 2), y_test shape: (160260, 96, 2)\n"
     ]
    }
   ],
   "source": [
    "import pickle\n",
    "## Processed data .pkl files are also made available for the select stations in URL\n",
    "# Please download the files and place them in content subfolder\n",
    "# else modify below path according to your chosen local download path:\n",
    "# univariate case (temp) : https://drive.google.com/drive/folders/197WGFswCLYinkx-48XBMQKILwJQMokd0?usp=sharing\n",
    "\n",
    "with open(\"./content/X_train.pkl\", \"rb\") as f:\n",
    "    X_train = pickle.load(f)\n",
    "\n",
    "with open(\"./content/X_test.pkl\", \"rb\") as f:\n",
    "    X_test = pickle.load(f)\n",
    "\n",
    "with open(\"./content/y_train.pkl\", \"rb\") as f:\n",
    "    y_train = pickle.load(f)\n",
    "\n",
    "with open(\"./content/y_test.pkl\", \"rb\") as f:\n",
    "    y_test = pickle.load(f)\n",
    "\n",
    "print(f\"X_train shape: {X_train.shape}, y_train shape: {y_train.shape}\")\n",
    "print(f\"X_test shape: {X_test.shape}, y_test shape: {y_test.shape}\")\n"
   ]
  },
  {
   "cell_type": "code",
   "execution_count": null,
   "id": "a9924af7",
   "metadata": {
    "id": "a9924af7"
   },
   "outputs": [],
   "source": []
  }
 ],
 "metadata": {
  "colab": {
   "collapsed_sections": [
    "346d227f"
   ],
   "machine_shape": "hm",
   "provenance": []
  },
  "kernelspec": {
   "display_name": "mless",
   "language": "python",
   "name": "python3"
  },
  "language_info": {
   "codemirror_mode": {
    "name": "ipython",
    "version": 3
   },
   "file_extension": ".py",
   "mimetype": "text/x-python",
   "name": "python",
   "nbconvert_exporter": "python",
   "pygments_lexer": "ipython3",
   "version": "3.12.10"
  }
 },
 "nbformat": 4,
 "nbformat_minor": 5
}
